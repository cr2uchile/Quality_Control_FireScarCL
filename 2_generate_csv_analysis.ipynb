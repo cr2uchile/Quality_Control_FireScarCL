{
  "cells": [
    {
      "cell_type": "markdown",
      "metadata": {
        "id": "view-in-github",
        "colab_type": "text"
      },
      "source": [
        "<a href=\"https://colab.research.google.com/github/cr2uchile/Quality_Control_FireScarCL/blob/main/2_generate_csv_analysis.ipynb\" target=\"_parent\"><img src=\"https://colab.research.google.com/assets/colab-badge.svg\" alt=\"Open In Colab\"/></a>"
      ]
    },
    {
      "cell_type": "markdown",
      "metadata": {
        "id": "c2jpqf6DNNKX"
      },
      "source": [
        "# Testing FireScar related statistics\n",
        "\n",
        "Following we have code to test the contents of the FireScar-CL database, by reading 4 generated csv's: \n",
        "* that contain paths, filename, filesize and last modification date\n",
        "* that contains tif and shapefile details per fire\n",
        "* master file that contains all fires, and more information for the ones that were evaluated\n",
        "* conaf revised XX that contains the base database YY\n",
        "\n",
        "The tests are performed in several areas: \n",
        "* 1) Amount of files, Types of Files, Content of tif and shapefiles\n",
        "* Geographic revision\n",
        "* Date and season revision\n",
        "* Burned area revision\n",
        "\n",
        ".. \n",
        "\n",
        "\n",
        "para que sepas cuáles son: \n",
        "folderSeason\t\n",
        "Fire Scar_image_name\t\n",
        "PreF-image_name\t\n",
        "PostF-image_name\t\n",
        "RdNBR_images_name\t\n",
        "Severity_image_name\t\n",
        "Fire Scar_vector_name\t\n",
        "Severity_vector_name\tfireId\t\n",
        "Treshold\t\n",
        "tif1Geo0\t lat top \n",
        "tif1Geo3\t lon left\n",
        "tif1Geo1\t lat bottom \n",
        "tif1Geo5\t lon right\n",
        "x\n",
        "y\n",
        "columnsShape1\t\n",
        "columnsShape2\n",
        "\n"
      ]
    },
    {
      "cell_type": "markdown",
      "metadata": {
        "id": "rpP-uliWbYKt"
      },
      "source": [
        "## Imports, Loading\n",
        "Mounts the Drive to read the summary csv files"
      ]
    },
    {
      "cell_type": "code",
      "execution_count": null,
      "metadata": {
        "id": "bAVTxhtGb6uS"
      },
      "outputs": [],
      "source": [
        "import sys\n",
        "import os\n",
        "import csv\n",
        "import math\n",
        "import numpy as np\n",
        "import pandas as pd\n",
        "import matplotlib.pyplot as plt\n",
        "import ogr\n",
        "import unittest\n",
        "#import pandas.testing\n",
        "from pandas.testing import assert_frame_equal\n",
        "from pandas.testing import assert_series_equal\n",
        "from pandas.testing import assert_index_equal\n"
      ]
    },
    {
      "cell_type": "code",
      "execution_count": null,
      "metadata": {
        "colab": {
          "base_uri": "https://localhost:8080/"
        },
        "id": "459BqPqmHn4j",
        "outputId": "ff17df05-8d7c-497d-ef6a-1f9887662285"
      },
      "outputs": [
        {
          "output_type": "stream",
          "name": "stdout",
          "text": [
            "Drive already mounted at /content/drive/; to attempt to forcibly remount, call drive.mount(\"/content/drive/\", force_remount=True).\n"
          ]
        }
      ],
      "source": [
        "from google.colab import drive\n",
        "drive.mount('/content/drive/') \n",
        "#listOfFiles = os.listdir('drive/MyDrive')\n",
        "\n"
      ]
    },
    {
      "cell_type": "code",
      "execution_count": null,
      "metadata": {
        "colab": {
          "base_uri": "https://localhost:8080/"
        },
        "id": "LCjxxLx6HsXQ",
        "outputId": "35e70cae-5aea-4e74-b74c-6c113efa0d75"
      },
      "outputs": [
        {
          "output_type": "stream",
          "name": "stdout",
          "text": [
            "drive/Shared drives/CR2_Carpetas_Compartidas/06. Proyectos internos/Incendios_BD_Cicatrices/Proyecto_FireScarHistórico/Report/\n",
            "RegistroIncendiosCONAF_depurada_Final.csv\n"
          ]
        }
      ],
      "source": [
        "sys.path.insert(0,'/content/drive/Shareddrives/CR2_Carpetas_Compartidas/06. Proyectos internos/Incendios_BD_Cicatrices/Proyecto_FireScarHistórico/ColabNotebooks/')\n",
        "from common import *\n",
        "\n",
        "print (output_path)\n",
        "print (conaf_filename)\n"
      ]
    },
    {
      "cell_type": "code",
      "execution_count": null,
      "metadata": {
        "colab": {
          "base_uri": "https://localhost:8080/"
        },
        "id": "bDKHrMvx7Zrh",
        "outputId": "429125ba-de61-43b9-aedc-71b179447cdf"
      },
      "outputs": [
        {
          "output_type": "stream",
          "name": "stdout",
          "text": [
            "not found\n",
            "Coquimbo\n",
            "not found\n",
            "Araucania\n",
            "not found\n",
            "not found\n",
            "BioBio\n",
            "not found\n",
            "BioBio\n",
            "Ohiggins\n"
          ]
        }
      ],
      "source": [
        "# Location Shapefile settings\n",
        "ISOcode_region = {\n",
        "    'Arica y Parinacota':'CL-AP',\n",
        "    'Tarapaca':'CL-TA',\n",
        "    'Antofagasta':'CL-AN',\n",
        "    'Magallanes':'',\n",
        "    'Aysen':'',\n",
        "    'Atacama':'CL-AT',\n",
        "    'Coquimbo':'CL-CO',\n",
        "    'Valparaiso':'CL-VS',\n",
        "    'Metropolitana':'CL-RM',\n",
        "    'Los Lagos':'CL-LL',\n",
        "    'Los Rios':'CL-LR',\n",
        "    'Araucania':'CL-AR',\n",
        "    'BioBio':'CL-BI',\n",
        "    'Nuble':'CL-NB',\n",
        "    'Maule':'CL-ML',\n",
        "    'Ohiggins':'CL-LI',\n",
        "}\n",
        "\n",
        "code_region = {\n",
        "    'Región de Arica y Parinacota' : 'Arica y Parinacota',\n",
        "    'Región de Tarapacá' : 'Tarapaca',\n",
        "    'Región de Antofagasta' : 'Antofagasta',\n",
        "    'Región de Magallanes y Antártica Chilena': 'Magallanes',\n",
        "    'Región de Aysén del Gral.Ibañez del Campo': 'Aysen',\n",
        "    'Región de Atacama': 'Atacama',\n",
        "    'Región de Coquimbo': 'Coquimbo',\n",
        "    'Región de Valparaíso': 'Valparaiso',\n",
        "    'Región Metropolitana de Santiago': 'Metropolitana',\n",
        "    'Región de Los Lagos': 'Los Lagos',\n",
        "    'Región de Los Ríos': 'Los Rios',\n",
        "    'Región de La Araucanía': 'Araucania',\n",
        "    'Región del Bío-Bío': 'BioBio',\n",
        "    'Región de Ñuble': 'Nuble',\n",
        "    'Región del Maule': 'Maule',\n",
        "    \"Región del Libertador Bernardo O'Higgins\": 'Ohiggins',\n",
        "}\n",
        "\n",
        "drv = ogr.GetDriverByName('ESRI Shapefile') #We will load a shape file\n",
        "regionshp = base_path+'ColabNotebooks/location/Regional.shp'\n",
        "region_source = drv.Open(regionshp)\n",
        "if region_source is None:\n",
        "  print('Could not open ' ,regionshp)\n",
        "rlayer = region_source.GetLayer(0)\n",
        "idx_reg = rlayer.GetLayerDefn().GetFieldIndex(\"Region\")   # CODE IS objectid  / \n",
        "#If the latitude/longitude we're going to use is not in the projection\n",
        "#of the shapefile, then we will get erroneous results.\n",
        "#The following assumes that the latitude longitude is in WGS84\n",
        "#This is identified by the number \"4326\", as in \"EPSG:4326\"\n",
        "#We will create a transformation between this and the shapefile's\n",
        "#project, whatever it may be\n",
        "rgeo_ref = rlayer.GetSpatialRef()\n",
        "rpoint_ref=ogr.osr.SpatialReference()\n",
        "rpoint_ref.ImportFromEPSG(4326)\n",
        "rctran=ogr.osr.CoordinateTransformation(rpoint_ref,rgeo_ref)\n",
        "#print(rctran)\n",
        "\n",
        "def getLocation(layer, inlon, inlat):\n",
        "  #Transform incoming longitude/latitude to the shapefile's projection\n",
        "  # print(inlon, inlat)\n",
        "  [lon,lat,z]=rctran.TransformPoint(inlon,inlat)\n",
        "  #Create a point\n",
        "  pt = ogr.Geometry(ogr.wkbPoint)\n",
        "  pt.SetPoint_2D(0, lon, lat)\n",
        "  #Set up a spatial filter such that the only features we see when we\n",
        "  #in \"layer\" is the which overlap the point defined above\n",
        "  layer.SetSpatialFilter(pt)\n",
        "\n",
        "  if len(layer) == 1:\n",
        "    return code_region.get(layer.GetNextFeature().GetFieldAsString(idx_reg))\n",
        "  elif len(layer) > 1:\n",
        "    return \"Multiple Layers\"\n",
        "  else:    \n",
        "    print(\"not found\") \n",
        "    if inlon> -72 and inlat<-39:\n",
        "      #return \"^\"+getLocation(layer, inlon-0.1, inlat)\n",
        "      return getLocation(layer, inlon-0.1, inlat)\n",
        "    else:\n",
        "      #return \"*\"+getLocation(layer, inlon+0.1, inlat)\n",
        "      return getLocation(layer, inlon+0.1, inlat)\n",
        "#print(getLocation(rlayer, -71.79375,-36.28001))\n",
        "print(getLocation(rlayer, -71.5176\t, -32.1289))\n",
        "print(getLocation(rlayer, -71.4214\t, -39.0033))\n",
        "print(getLocation(rlayer, -73.1143\t, -36.6145))\n",
        "print(getLocation(rlayer, -73.1541\t, -36.8831))\n",
        "print(getLocation(rlayer, -70.965421\t, -34.286302))\n",
        "\n",
        "# -71.4214 -39.0033\n"
      ]
    },
    {
      "cell_type": "code",
      "execution_count": null,
      "metadata": {
        "colab": {
          "base_uri": "https://localhost:8080/"
        },
        "id": "BW28TknMdusv",
        "outputId": "2b2514bf-915b-4f62-faed-6e11ab603dcb"
      },
      "outputs": [
        {
          "output_type": "stream",
          "name": "stdout",
          "text": [
            "2016\n",
            "2017\n",
            "CL-NB\n",
            "CL-RM\n"
          ]
        }
      ],
      "source": [
        "def get_season(fireDate):\n",
        "  #print (fireDate)\n",
        "  year=int(fireDate[:4])  \n",
        "  month=int(fireDate[4:6])  \n",
        "  # print (year, month)\n",
        "  if month >= 7:\n",
        "    return str(year+1)\n",
        "  return str(year)\n",
        "\n",
        "print(get_season('201606'))\n",
        "print(get_season('201607'))\n",
        "\n",
        "def get_ISOCode(region):\n",
        "  return ISOcode_region.get(region)\n",
        "\n",
        "print (get_ISOCode('Nuble'))\n",
        "print (get_ISOCode('Metropolitana'))\n"
      ]
    },
    {
      "cell_type": "markdown",
      "metadata": {
        "id": "8BjbFWrdSuPH"
      },
      "source": [
        "## Settings and Filenames\n",
        "Loads and calculates the most important and general dataframes"
      ]
    },
    {
      "cell_type": "code",
      "execution_count": null,
      "metadata": {
        "id": "00h07XGGIswv"
      },
      "outputs": [],
      "source": [
        "dfs_filename=os.path.join(output_path,'summary_20211116_VF.csv')\n",
        "dfd_filename=os.path.join(output_path,'report_content_20211001D.csv')\n",
        "dfm_filename=os.path.join(base_path,'Maestro_Evaluados_27_09_2021_NAMESOK.csv')\n",
        "dfm2_filename=os.path.join(base_path,'PANGAEA','2021_10_12_FireScarCL_records_V2.csv')\n",
        "dfi_filename= os.path.join(base_path,'PANGAEA','intersect_fireids_fixed.csv')\n",
        "dfconaf_filename = base_path+conaf_filename"
      ]
    },
    {
      "cell_type": "code",
      "execution_count": null,
      "metadata": {
        "colab": {
          "base_uri": "https://localhost:8080/"
        },
        "id": "jIANtL09RIO2",
        "outputId": "19df1bbb-3aac-409e-c955-598e0a752f9a"
      },
      "outputs": [
        {
          "output_type": "stream",
          "name": "stdout",
          "text": [
            "<bound method NDFrame.head of          interaccion\n",
            "fireId              \n",
            "ID100000            \n",
            "ID10002             \n",
            "ID100027            \n",
            "ID100032            \n",
            "ID100041            \n",
            "...              ...\n",
            "ID99979     ID100150\n",
            "ID9998              \n",
            "ID99985             \n",
            "ID99995             \n",
            "ID99998             \n",
            "\n",
            "[8153 rows x 1 columns]>\n",
            "len dfi 8153\n"
          ]
        }
      ],
      "source": [
        "# Reads intersect file\n",
        "dfi = pd.read_csv(dfi_filename, dtype=str)\n",
        "# KEYID,interaccion\n",
        "dfi.rename(columns={'KEYID':'fireId'}, inplace=True)\n",
        "dfi.set_index('fireId', inplace=True)\n",
        "dfi.fillna('', inplace=True)\n",
        "dfi.sort_index(inplace=True)\n",
        "\n",
        "print(dfi.head)\n",
        "print('len dfi', len(dfi))\n"
      ]
    },
    {
      "cell_type": "code",
      "execution_count": null,
      "metadata": {
        "colab": {
          "base_uri": "https://localhost:8080/"
        },
        "id": "B34sg9WClrMb",
        "outputId": "3b28e951-4f7c-41f7-8792-69b44c4725ba"
      },
      "outputs": [
        {
          "output_type": "stream",
          "name": "stdout",
          "text": [
            "['Coquimbo' 'Araucania' 'BioBio' 'LosLagos' 'LosRios' 'Maule'\n",
            " 'Metropolitana' 'Valparaiso' 'Ohiggins']\n",
            "['Coquimbo' 'Araucania' 'BioBio' 'Los Lagos' 'Los Rios' 'Maule'\n",
            " 'Metropolitana' 'Valparaiso' 'Ohiggins']\n",
            "['Coquimbo' 'Araucania' 'BioBio' 'Los Lagos' 'Los Rios' 'Maule'\n",
            " 'Metropolitana' 'Valparaiso' 'Ohiggins']\n",
            "len dfs 138601\n",
            "len fires 8153\n",
            "Index(['folderRegion', 'folderR_0', 'folderR_1', 'folderR_2', 'folderSeason',\n",
            "       'folderS_0', 'folderS_1', 'folderS_2', 'folderS_3', 'fireRegion',\n",
            "       'fireThreshold', 'fireDate', 'count', 'sum', 'mean', 'median', 'min',\n",
            "       'max'],\n",
            "      dtype='object')\n"
          ]
        }
      ],
      "source": [
        "# Reads summary file\n",
        "dfs = pd.read_csv(dfs_filename, dtype=str)\n",
        "print(dfs['folderR_2'].unique())\n",
        "\n",
        "dfs['fileSize'] = dfs['fileSize'].astype(int)\n",
        "dfs['folderR_2'] = dfs['folderR_2'].str.replace('Los','Los ')\n",
        "dfs['folderS_2'] = dfs['folderS_2'].str.replace('Los','Los ')\n",
        "print(dfs['folderR_2'].unique())\n",
        "print(dfs['folderS_2'].unique())\n",
        "\n",
        "dfregions = dfs.groupby(['folderRegion'], group_keys=False, as_index=False)['fileSize'].agg(['count', 'sum',  'mean', 'median', 'min', 'max']).reset_index()\n",
        "dfregions['fireCount'] = dfregions['count']/17\n",
        "dfseasons = dfs.groupby(['folderRegion','folderSeason'], group_keys=False, as_index=False)['fileSize'].agg(['count', 'sum',  'mean', 'median','min',  'max']).reset_index() \n",
        "dffires = dfs.groupby(['folderRegion','folderR_0', 'folderR_1', 'folderR_2', 'folderSeason', 'folderS_0','folderS_1','folderS_2', 'folderS_3', 'fireId', 'fireRegion', 'fireThreshold', 'fireDate'] , group_keys=False, as_index=False)['fileSize'].agg(['count', 'sum',  'mean', 'median','min',  'max']).reset_index()\n",
        "# SET INDEX\n",
        "dffires.set_index('fireId', inplace=True)\n",
        "\n",
        "print('len dfs', len(dfs))\n",
        "print('len fires', len(dffires.index))\n",
        "dffires.sort_index(inplace=True)\n",
        "print(dffires.columns)\n"
      ]
    },
    {
      "cell_type": "code",
      "execution_count": null,
      "metadata": {
        "colab": {
          "base_uri": "https://localhost:8080/"
        },
        "id": "pbGIbh-nq-1a",
        "outputId": "295fe4d4-af6d-47de-90b5-5db31572bfa4"
      },
      "outputs": [
        {
          "output_type": "stream",
          "name": "stdout",
          "text": [
            "Index(['tif1Meta', 'tif1Proj', 'tif1Geo0', 'tif1Geo3', 'tif1Geo1', 'tif1Geo5',\n",
            "       'tif1RCount', 'tif1X', 'tif1Y', 'tif1Zeros', 'tif1Ones', 'tif1Min',\n",
            "       'tif1Max', 'tif2Geo0', 'tif2Geo3', 'tif2Geo1', 'tif2Geo5', 'tif2X',\n",
            "       'tif2Y', 'tif2Zeros', 'tif2Ones', 'tif2Twos', 'tif2Threes', 'tif2Min',\n",
            "       'tif2Max', 'tif3Geo0', 'tif3Geo3', 'tif3Geo1', 'tif3Geo5', 'tif3X',\n",
            "       'tif3Y', 'tif3Min', 'tif3Max', 'tif4Geo0', 'tif4Geo3', 'tif4Geo1',\n",
            "       'tif4Geo5', 'tif4RCount', 'tif4X', 'tif4Y', 'tif5Geo0', 'tif5Geo3',\n",
            "       'tif5Geo1', 'tif5Geo5', 'tif5X', 'tif5Y', 'columnsShape1',\n",
            "       'lencolumnsShape1', 'lenShape1', 'columnsShape2', 'lencolumnsShape2',\n",
            "       'lenShape2', 'NIR_min', 'AreaTotal', 'Temporada', 'AreaINC_ha',\n",
            "       'AreaUnchS', 'AreaLowS', 'AreaHighS', 'Control', 'AreaMedS', 'Inicio',\n",
            "       'Region', 'NDVI_mean', 'Nombre_Inc', 'Area_Poly', 'KEY', 'AreaTotal.1',\n",
            "       'Temporada.1', 'AreaINC_ha.1', 'Severity', 'AreaUnchS.1', 'AreaLowS.1',\n",
            "       'AreaHighS.1', 'Control.1', 'AreaMedS.1', 'Inicio.1', 'Region.1',\n",
            "       'Nombre_Inc.1', 'KEY.1'],\n",
            "      dtype='object')\n",
            "len dfdetails - dfd 8153\n",
            "object\n"
          ]
        }
      ],
      "source": [
        "# Reads details file\n",
        "dfd = pd.read_csv(dfd_filename, index_col='fireId')\n",
        "\n",
        "print(dfd.columns)\n",
        "print('len dfdetails - dfd', len(dfd))\n",
        "dfd['IdKey'] = 'ID'+dfd['KEY'].astype(str)\n",
        "\n",
        "dfd['Temporada'] = dfd['Temporada'].astype(str)\n",
        "dfd['Temporada.1'] = dfd['Temporada.1'].astype(str)\n",
        "\n",
        "dfd.sort_index(inplace=True)\n",
        "print(dfd['Temporada'].dtypes)\n",
        "#print(dfd.head)"
      ]
    },
    {
      "cell_type": "code",
      "execution_count": null,
      "metadata": {
        "colab": {
          "base_uri": "https://localhost:8080/"
        },
        "id": "Zd-GmMyGl12Y",
        "outputId": "f61863aa-463e-43b1-de26-19fc7c4fa2e1"
      },
      "outputs": [
        {
          "output_type": "stream",
          "name": "stdout",
          "text": [
            "len dfmaster - dfm 12250\n",
            "len dfmeval 8153\n",
            "Index(['ID100000', 'ID10002', 'ID100027', 'ID100032', 'ID100041', 'ID100057',\n",
            "       'ID100058', 'ID10006', 'ID10007', 'ID10008',\n",
            "       ...\n",
            "       'ID9994', 'ID99948', 'ID99957', 'ID99962', 'ID99978', 'ID99979',\n",
            "       'ID9998', 'ID99985', 'ID99995', 'ID99998'],\n",
            "      dtype='object', name='fireId', length=8153)\n"
          ]
        }
      ],
      "source": [
        "# Read original master file\n",
        "dfm = pd.read_csv(dfm_filename, dtype=str)\n",
        "dfm['fireId'] = 'ID'+dfm['KEY']\n",
        "dfm.loc[:,['lat', 'long']] = dfm[['lat', 'long']].astype(float)\n",
        "dfm['valid_start_date'] = dfm['Start_year']+'-'+dfm['Start_month'].str.zfill(2)+'-'+dfm['Start_day'].str.zfill(2)\n",
        "dfm['stripped_start_date'] = dfm['Start_year']+dfm['Start_month'].str.zfill(2)+dfm['Start_day'].str.zfill(2)\n",
        "dfm['valid_control_date'] = dfm['Control_year']+'-'+dfm['Control_month'].str.zfill(2)+'-'+dfm['Control_day'].str.zfill(2)\n",
        "dfm.set_index('fireId', inplace=True)\n",
        "dfm.sort_index(inplace=True)\n",
        "dfmeval = dfm.loc[((dfm.Obtained == 'Si') & (dfm.Revision != 'No')) | (dfm.Revision == 'Si')  ]   \n",
        "#print(dfm.columns)\n",
        "print('len dfmaster - dfm', len(dfm))\n",
        "#print(dfm.head)\n",
        "print('len dfmeval', len(dfmeval))\n",
        "print(dfmeval.index)"
      ]
    },
    {
      "cell_type": "code",
      "execution_count": null,
      "metadata": {
        "colab": {
          "base_uri": "https://localhost:8080/"
        },
        "id": "LDc4rv5M-n0C",
        "outputId": "e04f6039-40f4-46ce-80a1-8201b73569ac"
      },
      "outputs": [
        {
          "output_type": "stream",
          "name": "stdout",
          "text": [
            "Index(['ID', 'FireSeason', 'Region_CONAF', 'FireName_CONAF', 'Area_CONAF',\n",
            "       'IgnitionDate_CONAF', 'ControlDate_CONAF', 'Longitude', 'Latitude',\n",
            "       'UTM_X', 'UTM_Y', 'FireScar', 'RegionCode'],\n",
            "      dtype='object')\n",
            "len dfmaster - dfm 12250\n",
            "len dfm2eval 8153\n"
          ]
        }
      ],
      "source": [
        "# Read regenerated master file\n",
        "dfm2 = pd.read_csv(dfm2_filename, dtype=str)\n",
        "dfm2['fireId'] = 'ID'+dfm2['ID']\n",
        "dfm2.loc[:,['Latitude', 'Longitude']] = dfm2[['Latitude', 'Longitude']].astype(float)\n",
        "dfm2.set_index('fireId', inplace=True)\n",
        "dfm2['RegionCode'] = dfm2['Region_CONAF'].apply(get_ISOCode)\n",
        "\n",
        "dfm2.sort_index(inplace=True)\n",
        "print(dfm2.columns)\n",
        "print('len dfmaster - dfm', len(dfm2))\n",
        "dfm2eval = dfm2.loc[(dfm2.FireScar == '1')]   \n",
        "print('len dfm2eval', len(dfm2eval))\n",
        "\n",
        "#print(dfm2.head)\n",
        "#print(dfm2.index)"
      ]
    },
    {
      "cell_type": "code",
      "execution_count": null,
      "metadata": {
        "colab": {
          "base_uri": "https://localhost:8080/"
        },
        "id": "koBpBRBcIMSa",
        "outputId": "8471dcd0-f030-4bfc-8690-b4d250e5edd7"
      },
      "outputs": [
        {
          "output_type": "stream",
          "name": "stdout",
          "text": [
            "len conaf 195358\n"
          ]
        }
      ],
      "source": [
        "# Read CONAF file\n",
        "dfconaf = pd.read_csv(dfconaf_filename, dtype=str)\n",
        "dfconaf['fireId'] = 'ID'+dfconaf['KEY']\n",
        "dfconaf['valid_start_date'] = dfconaf['inicioano']+'-'+dfconaf['iniciomes'].str.zfill(2)+'-'+dfconaf['iniciodia'].str.zfill(2)\n",
        "dfconaf['valid_control_date'] = dfconaf['controlano']+'-'+dfconaf['controlmes'].str.zfill(2)+'-'+dfconaf['controldia'].str.zfill(2)\n",
        "dfconaf.set_index('fireId', inplace=True)\n",
        "dfconaf.loc[:,['lat', 'long']] = dfconaf[['lat', 'long']].astype(float)\n",
        "dfconaf.sort_index(inplace=True)\n",
        "print('len conaf', len(dfconaf))\n",
        "#print(dfconaf.columns)\n",
        "#print(dfconaf.head)\n",
        "dfconafeval = dfconaf[dfconaf.index.isin(dfd.index)]\n",
        "#print(dfconafeval.index)"
      ]
    },
    {
      "cell_type": "code",
      "execution_count": null,
      "metadata": {
        "colab": {
          "base_uri": "https://localhost:8080/"
        },
        "id": "F72pv--8l8BU",
        "outputId": "6b2f00e7-e394-410c-ed98-97ebefb78a40"
      },
      "outputs": [
        {
          "output_type": "stream",
          "name": "stdout",
          "text": [
            "Index(['Region_conaf', 'Cod_Region', 'Nombre inc', 'long', 'lat', 'tif1Geo0',\n",
            "       'tif1Geo3', 'tif1Geo1', 'tif1Geo5', 'tif1X', 'tif1Y', 'Region_dbf',\n",
            "       'Region.1', 'folderRegion', 'folderR_0', 'folderR_1', 'folderR_2',\n",
            "       'folderSeason', 'folderS_0', 'folderS_1', 'folderS_2', 'folderS_3',\n",
            "       'fireRegion', 'fireThreshold', 'fireDate', 'season_from_date'],\n",
            "      dtype='object')\n",
            "fireId\n",
            "ID100000     Maule\n",
            "ID10002     BioBio\n",
            "ID100027     Maule\n",
            "ID100032     Maule\n",
            "ID100041     Maule\n",
            "             ...  \n",
            "ID99979      Maule\n",
            "ID9998      BioBio\n",
            "ID99985      Maule\n",
            "ID99995      Maule\n",
            "ID99998      Maule\n",
            "Name: Region_dbf, Length: 8153, dtype: object\n"
          ]
        }
      ],
      "source": [
        "# Generates Locations MERGE\n",
        "dflocations=pd.merge(dfconafeval[[ 'Region', 'Cod_Region', 'Nombre inc', 'long', 'lat']], \n",
        "                     dfd[['tif1Geo0', 'tif1Geo3', 'tif1Geo1', 'tif1Geo5', 'tif1X', 'tif1Y', 'Region', 'Region.1']],\n",
        "                     on='fireId', suffixes=['_conaf', '_dbf']).merge(dffires[['folderRegion', 'folderR_0', 'folderR_1', 'folderR_2', 'folderSeason', 'folderS_0', 'folderS_1', 'folderS_2', 'folderS_3', 'fireRegion', 'fireThreshold', 'fireDate']], on='fireId')\n",
        "\n",
        "dflocations['season_from_date'] = dflocations['fireDate'].apply(get_season)\n",
        "\n",
        "print(dflocations.columns)\n",
        "print(dflocations.Region_dbf)\n",
        "#print(dflocations.dtypes)"
      ]
    },
    {
      "cell_type": "code",
      "execution_count": null,
      "metadata": {
        "colab": {
          "base_uri": "https://localhost:8080/"
        },
        "id": "RCldf1_FVHBb",
        "outputId": "47cdc56b-eaa0-4fbd-86fd-407fcaeafde8"
      },
      "outputs": [
        {
          "output_type": "stream",
          "name": "stdout",
          "text": [
            "not found\n",
            "not found\n",
            "not found\n",
            "not found\n",
            "not found\n",
            "not found\n",
            "not found\n",
            "not found\n",
            "not found\n",
            "not found\n",
            "<bound method NDFrame.head of          Region_conaf Cod_Region  ... season_from_date obtainedRegion\n",
            "fireId                            ...                                \n",
            "ID100000        Maule          7  ...             2003          Maule\n",
            "ID10002        BioBio          8  ...             1986          Nuble\n",
            "ID100027        Maule          7  ...             2003          Maule\n",
            "ID100032        Maule          7  ...             2003          Maule\n",
            "ID100041        Maule          7  ...             2003          Maule\n",
            "...               ...        ...  ...              ...            ...\n",
            "ID99979         Maule          7  ...             2003          Maule\n",
            "ID9998         BioBio          8  ...             1986          Nuble\n",
            "ID99985         Maule          7  ...             2003          Maule\n",
            "ID99995         Maule          7  ...             2003          Maule\n",
            "ID99998         Maule          7  ...             2003          Maule\n",
            "\n",
            "[8153 rows x 27 columns]>\n"
          ]
        }
      ],
      "source": [
        "dflocations['obtainedRegion'] = dflocations.apply(lambda x: getLocation(rlayer, x['long'], x['lat']), axis=1)\n",
        "# 6 min\n",
        "print(dflocations.head)\n"
      ]
    },
    {
      "cell_type": "code",
      "execution_count": null,
      "metadata": {
        "id": "cwq-TUJqXdDr"
      },
      "outputs": [],
      "source": [
        "dflocations['obtainedRegionCode'] = dflocations['obtainedRegion'].apply(get_ISOCode)\n",
        "\n",
        "dflocations['observationRegions'] = np.where(dflocations['Region_dbf'] != dflocations['obtainedRegion'], 'The ignition point is located in the '+ dflocations['obtainedRegionCode'] +' region','')\n",
        "\n",
        "dflocations['observationRegions'] = np.where(dflocations['obtainedRegion'] == 'Nuble', 'The ignition point is located in the current CL-NB region', dflocations['observationRegions'])\n",
        "\n"
      ]
    },
    {
      "cell_type": "code",
      "execution_count": null,
      "metadata": {
        "colab": {
          "base_uri": "https://localhost:8080/"
        },
        "id": "D2NKp8M0YiSI",
        "outputId": "270dce0d-482e-4ee8-aabe-bf9249523032"
      },
      "outputs": [
        {
          "output_type": "stream",
          "name": "stdout",
          "text": [
            "<bound method NDFrame.head of          Region_conaf  ...                                 observationRegions\n",
            "fireId                 ...                                                   \n",
            "ID100000        Maule  ...                                                   \n",
            "ID10002        BioBio  ...  The ignition point is located in the current C...\n",
            "ID100027        Maule  ...                                                   \n",
            "ID100032        Maule  ...                                                   \n",
            "ID100041        Maule  ...                                                   \n",
            "...               ...  ...                                                ...\n",
            "ID99979         Maule  ...                                                   \n",
            "ID9998         BioBio  ...  The ignition point is located in the current C...\n",
            "ID99985         Maule  ...                                                   \n",
            "ID99995         Maule  ...                                                   \n",
            "ID99998         Maule  ...                                                   \n",
            "\n",
            "[8153 rows x 29 columns]>\n"
          ]
        }
      ],
      "source": [
        "print(dflocations.head)"
      ]
    },
    {
      "cell_type": "code",
      "execution_count": null,
      "metadata": {
        "colab": {
          "base_uri": "https://localhost:8080/"
        },
        "id": "7TwkOeiW6Own",
        "outputId": "3672d2fb-f2c8-4742-83eb-7f24cbd52f15"
      },
      "outputs": [
        {
          "output_type": "stream",
          "name": "stdout",
          "text": [
            "\n",
            "\n",
            "\n",
            "\n"
          ]
        }
      ],
      "source": [
        "# Generates MASTER MERGE\n",
        "\n",
        "# REF dffires = dfs.groupby(['folderRegion','folderR_0', 'folderR_1', 'folderR_2', 'folderSeason', 'folderS_0','folderS_1','folderS_2', 'folderS_3', 'fireId', \n",
        "# REF dffires .. 'fireRegion', 'fireThreshold', 'fireDate'] , group_keys=False, as_index=False)['fileSize'].agg(['count', 'sum',  'mean', 'median','min',  'max']).reset_index()\n",
        "\n",
        "# folderSeason\tFireScar_image_name\tPreF-image_name\tPostF-image_name\tRdNBR_images_name\tSeverity_image_name\tFire Scar_vector_name\tSeverity_vector_name\t\n",
        "# fireId\tTreshold\ttif1Geo0\ttif1Geo3\ttif1Geo1\ttif1Geo5\tfirescar x\tfirescar y\t['NIR_min', 'AreaTotal', 'Temporada', 'AreaINC_ha', 'AreaUnchS', 'AreaLowS', 'AreaHighS', 'Control', 'AreaMedS', 'Inicio', 'Region', 'NDVI_mean', 'Nombre_Inc', 'Area_Poly', 'KEY']\tcolumnsShape2\n",
        "\n",
        "# OK: folderLocation  G:FireScarImgName  G:PreFireImgName  G:PostFireImgName  G:RdNBRImgName G:SeverityImgName G:FireScarVectorName G:SeverityVectorName \n",
        "# OK: FireID \n",
        "# OK: Threshold \n",
        "# OK: FireScarUpperLat    G: FireScarLowerLat     OK: FireScarLeftLon      G: FireScarRightLon      OK: FireScarX  OK: FireScarY \n",
        "#### PreFireUpperLat PreFireLowerLat PreFireLeftLon PreFireRightLon PreFireX  PreFireY \n",
        "# FireScarPolygons, \n",
        "# FS_FireID, FS_Region, FS_Season, FS_IgnDate, FS_IgnLat, FS_IgnLon, FS_NdviMean, FS_PolygArea, FS_NirMin, FS_TotalArea, FS_AreaUnchS, FS_AreaLowS, FS_AreaModS, \n",
        "# FS_AreaHighS, FS_CtrlDate, FS_AreaCONAF, FS_NameCONAF, FS_OverlapIDs\n",
        "# SeverityPolygons,\n",
        "# S_FireID, S_Region, S_Season, S_IgnDate, S_IgnLat, S_IgnLon, S_Severity, S_TotalArea, S_AreaUnchS, S_AreaLowS, S_AreaModS, S_AreaHighS, S_CtrlDate, S_AreaCONAF, S_NameCONAF\n",
        "\n",
        "dfmasterOut=pd.merge(dffires[['folderSeason', 'fireThreshold',  'folderS_1', 'fireDate']],\n",
        "                     dfd[['tif1Geo0', 'tif1Geo3', 'tif1Geo1', 'tif1Geo5', 'tif1X', 'tif1Y', \n",
        "                          'AreaTotal', 'AreaUnchS', 'AreaLowS', 'AreaHighS', 'AreaMedS', \n",
        "                          'lenShape1', 'lenShape2' ]], \n",
        "                     on='fireId').merge(dfmeval[['valid_start_date', 'valid_control_date', 'Season_CONAF', 'Region_CONAF', 'Fire_Name_CONAF', 'Area_Ha_CONAF', \n",
        "                                                 'lat', 'long' ]], \n",
        "                                                 on='fireId').merge(dfi[['interaccion']], on='fireId').merge(dflocations[['observationRegions']], on='fireId')\n",
        "# Generates Filenames, other corner, ... \n",
        "# tif1Geo0 = FireScarLeftLon tif1Geo0 (left lon)\n",
        "# tif1Geo3 = FireScarUpperLat  tif1Geo3 (top lat) \n",
        "dfmasterOut['FireID']=dfmasterOut.index\n",
        "dfmasterOut.rename(columns={'folderSeason':'FolderLocation', 'fireThreshold':'Threshold', 'tif1Geo3':'NorthBoundLatitude', 'tif1Geo0': 'WestBoundLongitude',\n",
        "                            'tif1X':'Width', 'tif1Y':'Height', 'lenShape1':'FireScarPolygons', 'lenShape2':'SeverityPolygons',\n",
        "                            'AreaTotal':'TotalArea', 'AreaMedS':'AreaModS'}, inplace=True)\n",
        "\n",
        "dfmasterOut.rename(columns={'Season_CONAF':'FireSeason', 'Region_CONAF':'Region_CONAF', 'Fire_Name_CONAF':'FireName_CONAF', 'Area_Ha_CONAF':'Area_CONAF', \n",
        "                            'valid_start_date':'IgnitionDate', \n",
        "                            'valid_control_date':'ControlDate', 'long':'Longitude', 'lat':'Latitude',\n",
        "                            'interaccion':'OverlapIDs', 'observationRegions':'Observations'}, inplace=True)\n",
        "\n",
        "dfmasterOut['_commonName']='_'+dfmasterOut['folderS_1']+'_'+dfmasterOut.index+'_'+dfmasterOut['Threshold']+'_'+dfmasterOut['fireDate']\n",
        "dfmasterOut['FireScarImgName'] = 'FireScar'+dfmasterOut['_commonName'] +'.tif'\n",
        "dfmasterOut['PreFireImgName'] = 'ImgPreF'+dfmasterOut['_commonName'] +'.tif'\n",
        "dfmasterOut['PostFireImgName'] = 'ImgPosF'+dfmasterOut['_commonName'] +'.tif'\n",
        "dfmasterOut['RdNBRImgName'] = 'RdNBR'+dfmasterOut['_commonName'] +'.tif'\n",
        "dfmasterOut['SeverityImgName'] = 'Severity'+dfmasterOut['_commonName'] +'.tif'\n",
        "dfmasterOut['FireScarVectorName'] = 'FireScar'+dfmasterOut['_commonName'] +'.shp'\n",
        "dfmasterOut['SeverityVectorName'] = 'Severity'+dfmasterOut['_commonName'] +'.shp'\n",
        "dfmasterOut['Threshold'] = dfmasterOut['Threshold'].str[1:]\n",
        "#print(dfmasterOut['Threshold'])\n",
        "dfmasterOut['SouthBoundLatitude'] = dfmasterOut['NorthBoundLatitude'] + dfmasterOut['tif1Geo5'] * dfmasterOut['Height']\n",
        "dfmasterOut['EastBoundLongitude'] = dfmasterOut['WestBoundLongitude'] + dfmasterOut['tif1Geo1'] * dfmasterOut['Width']\n",
        "\n",
        "\n",
        "masterOutColumns = ['FireID', 'FireSeason', 'RegionCode', 'Region_CONAF', 'FireName_CONAF', 'Area_CONAF', 'IgnitionDate', 'ControlDate', \n",
        "                    'Longitude', 'Latitude', \n",
        "                    'FolderLocation', 'FireScarImgName', 'PreFireImgName', 'PostFireImgName', 'RdNBRImgName', 'SeverityImgName', \n",
        "                    'FireScarVectorName', 'SeverityVectorName',  'Threshold', 'NorthBoundLatitude', 'SouthBoundLatitude', 'WestBoundLongitude',\n",
        "                    'EastBoundLongitude', 'Width', 'Height', \n",
        "                    'TotalArea', 'AreaUnchS', 'AreaLowS', 'AreaModS', 'AreaHighS',                            \n",
        "                    'FireScarPolygons', 'SeverityPolygons', 'OverlapIDs', 'Observations']\n",
        "\n",
        "dfm2['FireID']=dfm2.index\n",
        "\n",
        "#print(dfmasterOut.columns)\n",
        "#print(dfmasterOut.head)\n",
        "#print(dfmasterOut.dtypes)\n",
        "\n",
        "supermaster = pd.merge(dfm2, dfmasterOut[['FolderLocation', 'FireScarImgName', 'PreFireImgName', 'PostFireImgName', 'RdNBRImgName', 'SeverityImgName', \n",
        "                    'FireScarVectorName', 'SeverityVectorName',  'Threshold', 'NorthBoundLatitude', 'SouthBoundLatitude', 'WestBoundLongitude',\n",
        "                    'EastBoundLongitude', 'Width', 'Height', 'TotalArea', 'AreaUnchS', 'AreaLowS', \n",
        "                    'AreaHighS', 'AreaModS', 'FireScarPolygons', 'SeverityPolygons', 'OverlapIDs', 'Observations']], how='left', on='fireId')\n",
        "\n",
        "\n",
        "supermaster[['Threshold', 'NorthBoundLatitude', 'SouthBoundLatitude', 'WestBoundLongitude', 'EastBoundLongitude', 'Width', 'Height', 'FireScarPolygons', 'SeverityPolygons', \n",
        "             'TotalArea', 'AreaUnchS', 'AreaLowS', 'AreaModS', 'AreaHighS',\n",
        "    'FireSeason', 'Area_CONAF', 'Longitude', 'Latitude' ]] = supermaster[['Threshold', 'NorthBoundLatitude', 'SouthBoundLatitude', 'WestBoundLongitude', 'EastBoundLongitude', \n",
        "                                                                          'Width', 'Height', 'FireScarPolygons', 'SeverityPolygons', \n",
        "                                                                          'TotalArea', 'AreaUnchS', 'AreaLowS', 'AreaModS', 'AreaHighS',\n",
        "    'FireSeason', 'Area_CONAF', 'Longitude', 'Latitude' ]].apply(pd.to_numeric)\n",
        "\n",
        "processing_text='Because of a processing capacity issue in Google Earth Engine, the vectorial version was develop in Qgis.'\n",
        "\n",
        "#supermaster.loc['ID189174', 'Observations'] = processing_text\n",
        "#supermaster.loc['ID189054', 'Observations'] = processing_text\n",
        "#supermaster.loc['ID189255', 'Observations'] = processing_text\n",
        "#supermaster.loc['ID189277', 'Observations'] = processing_text\n",
        "\n",
        "print(supermaster['Observations']['ID189174'])\n",
        "print(supermaster['Observations']['ID189054'])\n",
        "print(supermaster['Observations']['ID189255'])\n",
        "print(supermaster['Observations']['ID189277'])\n",
        "\n",
        "# En estos incendios ID189174, ID189054, ID189255, ID189277  pondría:\n",
        "#\"Because of a processing capacity issue in Google Earth Engine, the vectorial version was develop in Qgis\"\n",
        "#\n",
        "#\n",
        "#mylat = dfsm['Latitude']['ID8301']\n",
        "\n",
        "\n",
        "# SET UNITS\n",
        "# Area_CONAF [ha] Longitude [°] Latitude [°] NorthBoundLatitude [°] SouthBoundLatitude [°] WestBoundLongitude [°] EastBoundLongitude [°] \n",
        "# Width [pixels] Height [pixels] TotalArea [m2] AreaUnchS [m2] AreaLowS [m2] AreaModS [m2] reaHighS [m2]\n",
        "#\n",
        "\n",
        "supermaster.rename(columns={'Area_CONAF':'Area_CONAF [ha]', 'NorthBoundLatitude':'NorthBoundLatitude [°]', 'WestBoundLongitude': 'WestBoundLongitude [°]',\n",
        "                            'SouthBoundLatitude': 'SouthBoundLatitude [°]', 'EastBoundLongitude': 'EastBoundLongitude [°]',\n",
        "                            'Longitude':'Longitude [°]', 'Latitude':'Latitude [°]', \n",
        "                            'Width':'Width [pixels]', 'Height':'Height [pixels]', 'TotalArea':'TotalArea [m2]', 'AreaUnchS':'AreaUnchS [m2]',\n",
        "                            'AreaLowS':'AreaLowS [m2]', 'AreaModS':'AreaModS [m2]', 'AreaHighS':'AreaHighS [m2]'}, inplace=True)\n",
        "\n",
        "supermasterColumns = ['FireID', 'FireSeason', 'RegionCode', 'Region_CONAF', 'FireName_CONAF', 'Area_CONAF [ha]', 'IgnitionDate_CONAF', 'ControlDate_CONAF', \n",
        "                      'Latitude [°]', 'Longitude [°]', \n",
        "                      'FireScar', 'FolderLocation', 'FireScarImgName', 'PreFireImgName', 'PostFireImgName', 'RdNBRImgName', 'SeverityImgName', \n",
        "                    'FireScarVectorName', 'SeverityVectorName',  'Threshold', 'NorthBoundLatitude [°]', 'SouthBoundLatitude [°]', 'WestBoundLongitude [°]',\n",
        "                    'EastBoundLongitude [°]', 'Width [pixels]', 'Height [pixels]', \n",
        "                    'TotalArea [m2]', 'AreaUnchS [m2]', 'AreaLowS [m2]', 'AreaModS [m2]', 'AreaHighS [m2]', \n",
        "                    'FireScarPolygons', 'SeverityPolygons', 'OverlapIDs', 'Observations']\n",
        "\n",
        "\n"
      ]
    },
    {
      "cell_type": "markdown",
      "metadata": {
        "id": "h6wRRBPJ3AGe"
      },
      "source": [
        "##Print Reports"
      ]
    },
    {
      "cell_type": "code",
      "execution_count": null,
      "metadata": {
        "id": "TMN1KlB6QeT3"
      },
      "outputs": [],
      "source": [
        " def print_reports():\n",
        "  full_path = output_path+'output_amounts_'+tag+'.xlsx'\n",
        "  with pd.ExcelWriter(full_path) as writer:  \n",
        "    dfregions.to_excel(writer, sheet_name='SizePerRegion')\n",
        "    dfseasons.to_excel(writer, sheet_name='SizePerSeason')\n",
        "    dffires.to_excel(writer, sheet_name='SizePerFire')  \n",
        "\n",
        "  full_path = output_path+'output_location_'+tag+'.xlsx'\n",
        "  with pd.ExcelWriter(full_path) as writer:  \n",
        "    dflocations.to_excel(writer, sheet_name='LocationsPerFire')\n",
        "\n",
        "\n",
        "  #full_path = output_path+'output_MASTER_'+tag+'.xlsx'\n",
        "  #with pd.ExcelWriter(full_path) as writer:  \n",
        "  #  print (masterOutColumns)\n",
        "  #  print (dfmasterOut.columns)\n",
        "  #  dfmasterOut.to_excel(writer, sheet_name='Fire_Summary', columns=masterOutColumns , index=False)\n",
        "\n",
        "\n",
        "  full_path = output_path+'output_SUPERMASTER_'+tag+'.xlsx'\n",
        "  with pd.ExcelWriter(full_path) as writer:  \n",
        "    print (supermasterColumns)\n",
        "    print (supermaster.columns)\n",
        "    dif_list = list(set(supermaster.columns) - set(supermasterColumns))\n",
        "    print(dif_list)\n",
        "\n",
        "    supermaster.to_excel(writer, sheet_name='Fire_Summary', columns=supermasterColumns , index=False)\n",
        "\n",
        "\n",
        "  # REGION from filename, regionfolder, seasonfolder\n",
        "  # GET REGION (and comuna?) from CONAF lat long / MAP compare region reported from CONAF\n",
        "  def test_print_reports(self):\n",
        "    '''Printing Location report if needed'''\n",
        "    #df['Diff'] = np.where( df['folderS_3'] == df['fireDate'].apply(get_season) , '1', '0')\n",
        "\n",
        "\n"
      ]
    },
    {
      "cell_type": "code",
      "execution_count": null,
      "metadata": {
        "colab": {
          "base_uri": "https://localhost:8080/"
        },
        "id": "GT-MlcpZXgzg",
        "outputId": "2556e7ad-e916-4837-c94b-26b4ddbc822b"
      },
      "outputs": [
        {
          "output_type": "stream",
          "name": "stdout",
          "text": [
            "['FireID', 'FireSeason', 'RegionCode', 'Region_CONAF', 'FireName_CONAF', 'Area_CONAF [ha]', 'IgnitionDate_CONAF', 'ControlDate_CONAF', 'Latitude [°]', 'Longitude [°]', 'FireScar', 'FolderLocation', 'FireScarImgName', 'PreFireImgName', 'PostFireImgName', 'RdNBRImgName', 'SeverityImgName', 'FireScarVectorName', 'SeverityVectorName', 'Threshold', 'NorthBoundLatitude [°]', 'SouthBoundLatitude [°]', 'WestBoundLongitude [°]', 'EastBoundLongitude [°]', 'Width [pixels]', 'Height [pixels]', 'TotalArea [m2]', 'AreaUnchS [m2]', 'AreaLowS [m2]', 'AreaModS [m2]', 'AreaHighS [m2]', 'FireScarPolygons', 'SeverityPolygons', 'OverlapIDs', 'Observations']\n",
            "Index(['ID', 'FireSeason', 'Region_CONAF', 'FireName_CONAF', 'Area_CONAF [ha]',\n",
            "       'IgnitionDate_CONAF', 'ControlDate_CONAF', 'Longitude [°]',\n",
            "       'Latitude [°]', 'UTM_X', 'UTM_Y', 'FireScar', 'RegionCode', 'FireID',\n",
            "       'FolderLocation', 'FireScarImgName', 'PreFireImgName',\n",
            "       'PostFireImgName', 'RdNBRImgName', 'SeverityImgName',\n",
            "       'FireScarVectorName', 'SeverityVectorName', 'Threshold',\n",
            "       'NorthBoundLatitude [°]', 'SouthBoundLatitude [°]',\n",
            "       'WestBoundLongitude [°]', 'EastBoundLongitude [°]', 'Width [pixels]',\n",
            "       'Height [pixels]', 'TotalArea [m2]', 'AreaUnchS [m2]', 'AreaLowS [m2]',\n",
            "       'AreaHighS [m2]', 'AreaModS [m2]', 'FireScarPolygons',\n",
            "       'SeverityPolygons', 'OverlapIDs', 'Observations'],\n",
            "      dtype='object')\n",
            "['UTM_Y', 'UTM_X', 'ID']\n"
          ]
        }
      ],
      "source": [
        "flag_print_reports = 1\n",
        "\n",
        "tag='20211116_V10'\n",
        "\n",
        "if flag_print_reports:\n",
        "  print_reports()\n"
      ]
    },
    {
      "cell_type": "markdown",
      "metadata": {
        "id": "fGhEkOCnnFO8"
      },
      "source": [
        "## GENERATE ZIP FILES"
      ]
    },
    {
      "cell_type": "code",
      "execution_count": null,
      "metadata": {
        "colab": {
          "base_uri": "https://localhost:8080/"
        },
        "id": "Ip-oBScQM7Yq",
        "outputId": "b90af2f2-ec32-4868-9128-5ea34145860e"
      },
      "outputs": [
        {
          "output_type": "stream",
          "name": "stdout",
          "text": [
            "drive/Shared drives/CR2_Carpetas_Compartidas/06. Proyectos internos/Incendios_BD_Cicatrices/Proyecto_FireScarHistórico/Files_PANGAEA/FireScar_CL-CO_Coquimbo_1988-2018.zip\n",
            "drive/Shared drives/CR2_Carpetas_Compartidas/06. Proyectos internos/Incendios_BD_Cicatrices/Proyecto_FireScarHistórico/Fire_CL-CO_Coquimbo\n",
            "'00. Fotos, logos, gráficas'\n",
            "'01. Minutas CR2-Gestion'\n",
            "'02. Publicaciones'\n",
            "'03. Convenios Honorarios'\n",
            "'04. Inventario'\n",
            "'05. Proyectos externos'\n",
            "'06. Proyectos internos'\n",
            "'07. Colaboracion Instituciones'\n",
            "'08. Reuniones Ampliadas CR2'\n",
            "'09. Talleres y Webinars CR2'\n",
            "'10. Capacitaciones internas'\n",
            "'11. Pack Bienvenida al CR2'\n",
            "'13. Videos'\n",
            "'14. Comunicaciones'\n",
            "'15. RedLama'\n",
            "'18. Webs CR2 ++'\n",
            "'19. Llamados CR2'\n",
            "'21. Staff CR2 (inv, postd, est)'\n",
            "'22. Listas de contactos'\n",
            "'23. Traducciones'\n",
            "'24. Compromisos - Autoevaluaciones'\n",
            "'25. Conferencias CR2'\n",
            " Admin\n",
            "'Boya Posar'\n",
            "'Coordinación interna CR2'\n",
            "'CR2 HITOS 2020.gsheet'\n",
            "'Escuela de Verano 2021'\n",
            "'Iniciativas Docencia CR2'\n",
            "'Propiedad Intelectual Plataforma Vulnerabilidad'\n",
            "'Registro de actividades Maisa Rojas.gsheet'\n",
            "'Renovación CR2'\n",
            "\tzip warning: name not matched: Fire_CL-CO_Coquimbo/\n",
            "\n",
            "zip error: Nothing to do! (try: zip -r /content/drive/Shared drives/CR2_Carpetas_Compartidas/06. Proyectos internos/Incendios_BD_Cicatrices/Proyecto_FireScarHistórico/Files_PANGAEA/FireScar_CL-CO_Coquimbo_1988-2018.zip . -i Fire_CL-CO_Coquimbo/)\n"
          ]
        }
      ],
      "source": [
        "# GENERATE ZIP FILES \n",
        "###!zip \"/content/drive/path/output_file_name.zip\" \"/content/drive/My Drive/Tutorial/games\"\n",
        "zipfile=os.path.join(base_path,'Files_PANGAEA', 'FireScar_CL-CO_Coquimbo_1988-2018.zip')\n",
        "infolder=os.path.join(base_path,'Fire_CL-CO_Coquimbo')\n",
        "print(zipfile)\n",
        "print(infolder)\n",
        "\n",
        "sys.path.insert(0,'/content/drive/Shareddrives/CR2_Carpetas_Compartidas/06. Proyectos internos/Incendios_BD_Cicatrices/')\n",
        "!ls /content/drive/Shared\\ drives/CR2_Carpetas_Compartidas/\n",
        "\n",
        "# COQUIMBO \n",
        "!zip -r /content/drive/Shared\\ drives/CR2_Carpetas_Compartidas/06.\\ Proyectos\\ internos/Incendios_BD_Cicatrices/Proyecto_FireScarHistórico/Files_PANGAEA/FireScar_CL-CO_Coquimbo_1988-2018.zip Fire_CL-CO_Coquimbo/\n",
        "\n",
        "\n",
        "#!zip -r /content/drive/Shared\\ drives/CR2_Carpetas_Compartidas/06.\\ Proyectos\\ internos/Incendios_BD_Cicatrices/Proyecto_FireScarHistórico/Files_PANGAEA/FireScar_CL-CO_Coquimbo_1988-2018.zip Fire_CL-CO_Coquimbo/\n",
        "\n",
        "\n",
        "\n",
        "#dfs_filename=os.path.join(output_path,'summary_20211116_VF.csv')\n",
        "#dfd_filename=os.path.join(output_path,'report_content_20211001D.csv')\n",
        "#dfm_filename=os.path.join(base_path,'Maestro_Evaluados_27_09_2021_NAMESOK.csv')\n",
        "#dfm2_filename=os.path.join(base_path,'PANGAEA','2021_10_12_FireScarCL_records_V2.csv')\n",
        "#dfi_filename= os.path.join(base_path,'PANGAEA','intersect_fireids_fixed.csv')\n",
        "#dfconaf_filename = base_path+conaf_filename"
      ]
    },
    {
      "cell_type": "markdown",
      "metadata": {
        "id": "GjoqwfGV6HS5"
      },
      "source": [
        "## Class Generic Test"
      ]
    },
    {
      "cell_type": "code",
      "execution_count": null,
      "metadata": {
        "id": "DkbaPSykGZpa"
      },
      "outputs": [],
      "source": [
        "class testDF(unittest.TestCase):\n",
        "  def assertDataframeEqual(self, a, b, msg):\n",
        "    try:\n",
        "      assert_frame_equal(a, b,  check_index_type=False, check_dtype=False, check_names=False)      \n",
        "    except AssertionError as e:\n",
        "      raise self.failureException(msg) from e\n",
        "\n",
        "  def assertIndexEqual(self, a, b, msg):\n",
        "    #print(\"COMPARING INDEXES\")\n",
        "    try:\n",
        "      assert_index_equal(a, b,  check_names=False)      \n",
        "    except AssertionError as e:\n",
        "      raise self.failureException(msg) from e\n",
        "\n",
        "  def setUp(self):\n",
        "    '''Setup common data and base dataframes for comparing emptyness'''\n",
        "    self.addTypeEqualityFunc(pd.DataFrame, self.assertDataframeEqual)\n",
        "    self.addTypeEqualityFunc(pd.Index, self.assertIndexEqual)\n",
        "\n",
        "    self.emptyc=pd.DataFrame({'self': pd.Series(dtype='float64'), 'other': pd.Series(dtype='float64') })\n",
        "    self.emptydfd=pd.DataFrame( {c:pd.Series(dtype='object') for c in dfd.columns})\n",
        "    self.emptyidx = pd.Index([],  name='fireId')\n",
        "    #@unittest.skip "
      ]
    },
    {
      "cell_type": "markdown",
      "metadata": {
        "id": "QcYcUOiTfRsG"
      },
      "source": [
        "## Class Test File Amounts \n",
        " Test amount of files by extension, type, total amount\n"
      ]
    },
    {
      "cell_type": "code",
      "execution_count": null,
      "metadata": {
        "id": "EpiWAxC-7nvl"
      },
      "outputs": [],
      "source": [
        "class testFileAmounts(testDF):\n",
        "  def setUp(self):\n",
        "    '''Set up dataframes that are used in several tests'''\n",
        "    testDF.setUp(self)\n",
        "    self.dfNumFilesType = dfs.groupby(['folderRegion','folderSeason', 'fireId', 'fireType'])['fireType'].count().reset_index(name=\"count\")\n",
        "    self.dfNumFilesExt = dfs.groupby(['folderRegion','folderSeason', 'fireId', 'fileExt'])['fileExt'].count().reset_index(name=\"count\")\n",
        "\n",
        "  def test_total_size(self):\n",
        "    '''Test case total size'''\n",
        "    totalSize = dfs['fileSize'].sum()\n",
        "    print(totalSize) \n",
        "    self.assertTrue(totalSize > 120000000000)\n",
        "    # 116GB  # 124828781471 \n",
        "\n",
        "  def test_region_amounts(self):\n",
        "    '''Test case amount of regions considered'''    \n",
        "    self.assertEqual(len(dfregions), 9)\n",
        "  \n",
        "  def test_region_season_amount (self):\n",
        "    '''Test case amount of regions-seasons considered'''            \n",
        "    self.assertEqual(len(dfseasons), 244)\n",
        "\n",
        "  def test_internal_fire_amount(self):\n",
        "    '''Test case amount of fires considered, Detailed obtained Files vs Master obtained Fires'''   \n",
        "    self.assertEqual(len(dfd), len(dfmeval))\n",
        "\n",
        "  def test_total_fire_amount(self):\n",
        "    '''Test case amount of fires considered, Summary obtained Files vs Master obtained Fires'''    \n",
        "    self.assertEqual(len(dffires), len(dfmeval))\n",
        "\n",
        "  def test_master_vs_files(self):\n",
        "    '''Test Files in Masterlist Obtained and NOT Filesystem'''\n",
        "    ridx = dfmeval.index.difference(dffires.index)\n",
        "    self.assertEqual(ridx, self.emptyidx, ridx)\n",
        "\n",
        "  def test_details_vs_files(self):\n",
        "    '''Test Files in Details Obtained and NOT Filesystem'''\n",
        "    ridx = dfd.index.difference(dffires.index)\n",
        "    self.assertEqual(ridx, self.emptyidx, ridx)\n",
        "\n",
        "  def test_details_vs_files2(self):\n",
        "    '''Test Files in Details Obtained and NOT Master'''\n",
        "    ridx = dfd.index.difference(dfmeval.index)\n",
        "    self.assertEqual(ridx, self.emptyidx, ridx)    \n",
        "\n",
        "  def  test_master_vs_files2(self):\n",
        "    '''Test Files in Filesystem and NOT in Masterlist Obtained'''    \n",
        "    ridx = dffires.index.difference(dfmeval.index)\n",
        "    self.assertEqual(ridx, self.emptyidx, ridx)\n",
        "\n",
        "  def  test_master_vs_files3(self):\n",
        "    '''Test Files in Filesystem and NOT in Masterlist'''\n",
        "    #rdf3 =  dffires[-dffires.isin(dfm)]\n",
        "    ridx = dffires.index.difference(dfm.index)\n",
        "    self.assertEqual(ridx, self.emptyidx, ridx)\n",
        "\n",
        "  def  test_master_vs_details(self):\n",
        "    '''Test Files in Filesystem and NOT in Details'''\n",
        "    #rdf3 =  dffires[-dffires.isin(dfm)]\n",
        "    ridx = dffires.index.difference(dfd.index)\n",
        "    self.assertEqual(ridx, self.emptyidx, ridx)    \n",
        "\n",
        "  def  test_master_vs_details2(self):\n",
        "    '''Test Files in MASTER and NOT in Details'''\n",
        "    ridx = dfmeval.index.difference(dfd.index)\n",
        "    self.assertEqual(ridx, self.emptyidx, ridx)    \n",
        "\n",
        "  def test_fire_files_amount(self):\n",
        "    '''Test Number of Correct Files per Fire'''\n",
        "    rdf4 = dffires.loc[dffires['count'] != 17]\n",
        "    self.assertEqual (len(rdf4),0)\n",
        "\n",
        "  def test_file_types1(self):\n",
        "    '''Test Fires with wrong amount of FireScar files (!= 7)'''\n",
        "    countdf = self.dfNumFilesType.loc[(self.dfNumFilesType['fireType'] == 'FireScar') & (self.dfNumFilesType['count'] != 7)]\n",
        "    self.assertEqual(len(countdf),0) \n",
        "\n",
        "  def test_file_types2(self):\n",
        "    '''Test Fires with wrong amount of Severity files (!= 7)'''\n",
        "    countdf = self.dfNumFilesType.loc[(self.dfNumFilesType['fireType'] == 'Severity') & (self.dfNumFilesType['count'] != 7)]\n",
        "    self.assertEqual(len(countdf),0)  \n",
        "\n",
        "  def test_file_types3(self):\n",
        "    '''Test Fires with wrong amount of ImgPosF files (!= 1)'''\n",
        "    countdf = self.dfNumFilesType.loc[(self.dfNumFilesType['fireType'] == 'ImgPosF') & (self.dfNumFilesType['count'] != 1)]\n",
        "    self.assertEqual(len(countdf),0)\n",
        "\n",
        "  def test_file_types4(self):    \n",
        "    '''Test Fires with wrong amount of ImgPreF (!= 1)'''\n",
        "    countdf = self.dfNumFilesType.loc[(self.dfNumFilesType['fireType'] == 'ImgPreF') & (self.dfNumFilesType['count'] != 1)]\n",
        "    self.assertEqual(len(countdf),0)\n",
        "\n",
        "  def test_file_types5(self):\n",
        "    '''Test Fires with wrong amount of RdNBR (!= 1)'''\n",
        "    countdf = self.dfNumFilesType.loc[(self.dfNumFilesType['fireType'] == 'RdNBR') & (self.dfNumFilesType['count'] != 1)]    \n",
        "    self.assertEqual(len(countdf),0)\n",
        "  \n",
        "  def test_file_ext1(self):\n",
        "    '''Test Fires with wrong amount of tif  (!= 5)'''\n",
        "    countdf = self.dfNumFilesExt.loc[(self.dfNumFilesExt['fileExt'] == '.tif') & (self.dfNumFilesExt['count'] != 5)]\n",
        "    self.assertEqual(len(countdf),0)\n",
        "\n",
        "  def test_file_ext2(self):\n",
        "    '''Test Fires with wrong amount of shape related files  (!= 2)'''\n",
        "    self.assertEqual(len(self.dfNumFilesExt.loc[(self.dfNumFilesExt['fileExt'] == '.cpg') & (self.dfNumFilesExt['count'] != 2)]),0)\n",
        "    self.assertEqual(len(self.dfNumFilesExt.loc[(self.dfNumFilesExt['fileExt'] == '.dbf') & (self.dfNumFilesExt['count'] != 2)]),0)\n",
        "    self.assertEqual(len(self.dfNumFilesExt.loc[(self.dfNumFilesExt['fileExt'] == '.fix') & (self.dfNumFilesExt['count'] != 2)]),0)\n",
        "    self.assertEqual(len(self.dfNumFilesExt.loc[(self.dfNumFilesExt['fileExt'] == '.prj') & (self.dfNumFilesExt['count'] != 2)]),0)\n",
        "    self.assertEqual(len(self.dfNumFilesExt.loc[(self.dfNumFilesExt['fileExt'] == '.shp') & (self.dfNumFilesExt['count'] != 2)]),0)\n",
        "    self.assertEqual(len(self.dfNumFilesExt.loc[(self.dfNumFilesExt['fileExt'] == '.shx') & (self.dfNumFilesExt['count'] != 2)]),0)  \n",
        "\n",
        "\n",
        "\n",
        "\n"
      ]
    },
    {
      "cell_type": "markdown",
      "metadata": {
        "id": "PZzLKDsBVbwB"
      },
      "source": [
        "## Class Tiff Detailed Checks\n",
        "\n",
        "Test tiff details: locations, content, xxx\n",
        "Check TIFS rastercounts, zeros and ones, size, metadata in general\n"
      ]
    },
    {
      "cell_type": "code",
      "execution_count": null,
      "metadata": {
        "id": "jeoHtAVOV0sq"
      },
      "outputs": [],
      "source": [
        "class testTifDetails(testDF): \n",
        "   \n",
        "  def test_projection(self):\n",
        "    '''Test projection text''' \n",
        "    projection_text ='GEOGCS[\"WGS 84\",DATUM[\"WGS_1984\",SPHEROID[\"WGS 84\",6378137,298.257223563,AUTHORITY[\"EPSG\",\"7030\"]],AUTHORITY[\"EPSG\",\"6326\"]],PRIMEM[\"Greenwich\",0],UNIT[\"degree\",0.0174532925199433],AUTHORITY[\"EPSG\",\"4326\"]]'\n",
        "    rdf = dfd.loc[dfd['tif1Proj'] != projection_text]\n",
        "    self.assertEqual(rdf, self.emptydfd, rdf.to_string())\n",
        "    \n",
        "  def test_area(self):\n",
        "    '''Test area text''' \n",
        "    area_text = \"{'AREA_OR_POINT': 'Area'}\"\n",
        "    rdf = dfd.loc[dfd['tif1Meta'] != area_text]\n",
        "    self.assertEqual(rdf, self.emptydfd, rdf.to_string())\n",
        "\n",
        "  def test_rastercount(self):\n",
        "    '''Test Correct amount of rasters per tif'''\n",
        "    self.assertEqual(len(dfd.loc[dfd['tif1RCount'] != 1]), 0)\n",
        "    self.assertEqual(len(dfd.loc[dfd['tif4RCount'] != 8]), 0)\n",
        "\n",
        "  def test_tiflocation12X(self):\n",
        "    '''Test Location between tif1 and tif2 X'''    \n",
        "    rdf = dfd['tif1X'].compare(dfd['tif2X'])       \n",
        "    self.assertEqual(rdf, self.emptyc, rdf.to_string())\n",
        "\n",
        "  def test_tiflocation12Y(self):\n",
        "    '''Test Location between tif1 and tif2 Y'''    \n",
        "    rdf = dfd['tif1Y'].compare(dfd['tif2Y'])\n",
        "    self.assertEqual(rdf, self.emptyc, rdf.to_string())\n",
        "\n",
        "  def test_tiflocation12Geo0(self):\n",
        "    '''Test Location between tif1 and tif2 Geo0'''\n",
        "    rdf = dfd['tif1Geo0'].compare(dfd['tif2Geo0'])\n",
        "    self.assertEqual(rdf, self.emptyc, rdf.to_string())\n",
        "\n",
        "  def test_tiflocation12Geo3(self):\n",
        "    '''Test Location between tif1 and tif2 Geo3'''\n",
        "    rdf = dfd['tif1Geo3'].compare(dfd['tif2Geo3'])\n",
        "    self.assertEqual(rdf, self.emptyc, rdf.to_string())\n",
        "\n",
        "  def test_tiflocation13X(self):\n",
        "    '''Test Location between tif1 and tif3 X'''    \n",
        "    rdf = dfd['tif1X'].compare(dfd['tif3X'])        \n",
        "    self.assertEqual(rdf, self.emptyc, rdf.to_string())\n",
        "  \n",
        "  def test_tiflocation13Y(self):\n",
        "    '''Test Location between tif1 and tif3 Y'''    \n",
        "    rdf = dfd['tif1Y'].compare(dfd['tif3Y'])\n",
        "    self.assertEqual(rdf, self.emptyc, rdf.to_string())\n",
        " \n",
        "  def test_tiflocation13Geo0(self):\n",
        "    '''Test Location between tif1 and tif3 Geo0'''\n",
        "    rdf = dfd['tif1Geo0'].compare(dfd['tif3Geo0'])\n",
        "    self.assertEqual(rdf, self.emptyc, rdf.to_string())\n",
        " \n",
        "  def test_tiflocation13Geo3(self):\n",
        "    '''Test Location between tif1 and tif3 Geo3'''\n",
        "    rdf = dfd['tif1Geo3'].compare(dfd['tif3Geo3'])\n",
        "    self.assertEqual(rdf, self.emptyc, rdf.to_string())\n",
        " \n",
        "  def test_tiflocation45X(self):\n",
        "    '''Test Location between tif4 and tif5 X'''    \n",
        "    rdf = dfd['tif4X'].compare(dfd['tif5X'])        \n",
        "    self.assertEqual(rdf, self.emptyc, rdf.to_string())\n",
        " \n",
        "  def test_tiflocation45Y(self):\n",
        "    '''Test Location between tif4 and tif5 Y'''    \n",
        "    rdf = dfd['tif4Y'].compare(dfd['tif5Y'])        \n",
        "    self.assertEqual(rdf, self.emptyc, rdf.to_string())\n",
        " \n",
        "  def test_tiflocation45Geo0(self):\n",
        "    '''Test Location between tif4 and tif5 Geo0'''    \n",
        "    rdf = dfd['tif4Geo0'].compare(dfd['tif5Geo0'])        \n",
        "    self.assertEqual(rdf, self.emptyc, rdf.to_string())\n",
        " \n",
        "  def test_tiflocation45Geo3(self):\n",
        "    '''Test Location between tif4 and tif5 Geo3'''    \n",
        "    rdf = dfd['tif4Geo3'].compare(dfd['tif5Geo3'])\n",
        "    self.assertEqual(rdf, self.emptyc, rdf.to_string())\n",
        " \n",
        "  def test_firescarmin(self):\n",
        "    '''Test Firescar tiff all min equals 0 '''  \n",
        "    rdf = dfd.loc[dfd['tif1Min'] != 0]    \n",
        "    self.assertEqual(rdf, self.emptydfd, rdf.to_string())\n",
        "\n",
        "  def test_firescarmax(self):\n",
        "    '''Test Firescar tiff all max equals 1'''      \n",
        "    rdf = dfd.loc[dfd['tif1Max'] != 1] \n",
        "    self.assertEqual(rdf, self.emptydfd, rdf.to_string())\n",
        "  \n",
        "  def test_severitymin(self):\n",
        "    '''Test Severity tiff all min equals 0 '''  \n",
        "    rdf = dfd.loc[dfd['tif2Min'] != 0]    \n",
        "    self.assertEqual(rdf, self.emptydfd, rdf.to_string())\n",
        "\n",
        "  def test_severitymax(self):\n",
        "    '''Test Severity tiff all max between 1 and 3 '''  \n",
        "    rdf = dfd.loc[(dfd['tif2Max'] < 1) | (dfd['tif2Max'] > 3)]\n",
        "    self.assertEqual(rdf, self.emptydfd, rdf.to_string())\n",
        "\n",
        "  def test_firescar_xy_content(self):\n",
        "    '''Test Firescar tiff x * y = zeros + ones '''    \n",
        "    rdf1 = pd.DataFrame()\n",
        "    rdf1['xy'] = dfd['tif1X']*dfd['tif1Y']\n",
        "    rdf1['content'] = dfd['tif1Zeros']+dfd['tif1Ones']\n",
        "    rdf = rdf1['xy'].compare(rdf1['content'])\n",
        "    self.assertEqual(rdf, self.emptyc, rdf.to_string())\n",
        "\n",
        "  def test_severity_xy_content(self):\n",
        "    '''Test Severity tiff x * y = zeros + ones + twos + threes '''    \n",
        "    rdf1 = pd.DataFrame()\n",
        "    rdf1['xy'] = dfd['tif2X']*dfd['tif2Y']\n",
        "    rdf1['content'] = dfd['tif2Zeros']+dfd['tif2Ones']+dfd['tif2Twos']+dfd['tif2Threes']\n",
        "    rdf = rdf1['xy'].compare(rdf1['content'])\n",
        "    self.assertEqual(rdf, self.emptyc, rdf.to_string())\n",
        "\n",
        "  def test_firescar_severity_zeros(self):\n",
        "    '''Test Firescar Zeros == Severity Zeros '''    \n",
        "    rdf = dfd['tif1Zeros'].compare(dfd['tif2Zeros'])        \n",
        "    self.assertEqual(rdf, self.emptyc, rdf.to_string())\n",
        "\n",
        "  def test_firescar_severity_nonzeros(self):\n",
        "    '''Test Firescar NonZeros == Severity NonZeros ''' \n",
        "    rdf1 = pd.DataFrame()\n",
        "    rdf1['content1'] = dfd['tif1Ones']\n",
        "    rdf1['content2'] = dfd['tif2Ones']+dfd['tif2Twos']+dfd['tif2Threes']\n",
        "    rdf = rdf1['content1'].compare(rdf1['content2'])\n",
        "    self.assertEqual(rdf, self.emptyc, rdf.to_string()) \n",
        "\n",
        "  def test_tif14X(self):\n",
        "    '''Test if Firescar X dimensions equals Satellite image'''    \n",
        "    rdf = dfd.loc[(dfd['tif1X'] == dfd['tif4X'])]\n",
        "    self.assertEqual(rdf, self.emptydfd, rdf.to_string())    \n",
        "\n",
        "  def test_tif14Y(self):\n",
        "    '''Test if Firescar Y dimensions equals Satellite image'''\n",
        "    rdf = dfd.loc[(dfd['tif1Y'] == dfd['tif4Y'])]\n",
        "    self.assertEqual(rdf, self.emptydfd, rdf.to_string())\n",
        "\n"
      ]
    },
    {
      "cell_type": "markdown",
      "metadata": {
        "id": "AA_UqovR6aV_"
      },
      "source": [
        "## Class Dbf Detailed Checks\n"
      ]
    },
    {
      "cell_type": "code",
      "execution_count": null,
      "metadata": {
        "id": "S9a7LgP3QJcF"
      },
      "outputs": [],
      "source": [
        "class testDbfDetails(testDF): \n",
        "  # Check Shapefiles: content, encoding, files\n",
        "  def test_dbfFirescarSeverityPol(self):\n",
        "    '''Test DBF Firescar and Severity: Polygon amount'''          \n",
        "    rdf = dfd.loc[(dfd['lencolumnsShape1']<dfd['lencolumnsShape2'])]\n",
        "    self.assertEqual(rdf, self.emptydfd, rdf.to_string())\n",
        "\n",
        "  def test_dbfFirescarSeverityRegion(self):\n",
        "    '''Test DBF Firescar and Severity: Area Total'''    \n",
        "    rdf = dfd['Region'].compare(dfd['Region.1'])\n",
        "    self.assertEqual(rdf, self.emptyc, rdf.to_string())\n",
        "\n",
        "  def test_dbfFirescarSeverity1(self):\n",
        "    '''Test DBF Firescar and Severity: Area Total'''    \n",
        "    rdf = dfd['AreaTotal'].compare(dfd['AreaTotal.1'])\n",
        "    self.assertEqual(rdf, self.emptyc, rdf.to_string())\n",
        "\n",
        "  def test_dbfFirescarSeverity2(self):\n",
        "    '''Test DBF Firescar and Severity: Temporada'''    \n",
        "    rdf = dfd['Temporada'].compare(dfd['Temporada.1'])\n",
        "    self.assertEqual(rdf, self.emptyc, rdf.to_string())\n",
        "\n",
        "  def test_dbfFirescarSeverity3(self):\n",
        "    '''Test DBF Firescar and Severity: AreaINC_ha'''    \n",
        "    rdf = dfd['AreaINC_ha'].compare(dfd['AreaINC_ha.1'])\n",
        "    self.assertEqual(rdf, self.emptyc, rdf.to_string())\n",
        "\n",
        "  def test_dbfFirescarSeverity4(self):\n",
        "    '''Test DBF Firescar and Severity: AreaUnchS'''    \n",
        "    rdf = dfd['AreaUnchS'].compare(dfd['AreaUnchS.1'])\n",
        "    self.assertEqual(rdf, self.emptyc, rdf.to_string())\n",
        "\n",
        "  def test_dbfFirescarSeverity5(self):\n",
        "    '''Test DBF Firescar and Severity: AreaUnchS'''    \n",
        "    rdf = dfd['AreaUnchS'].compare(dfd['AreaUnchS.1'])\n",
        "    self.assertEqual(rdf, self.emptyc, rdf.to_string())\n",
        "\n",
        "  def test_dbfFirescarSeverity6(self):\n",
        "    '''Test DBF Firescar and Severity: AreaLowS'''    \n",
        "    rdf = dfd['AreaLowS'].compare(dfd['AreaLowS.1'])\n",
        "    self.assertEqual(rdf, self.emptyc, rdf.to_string())\n",
        "  \n",
        "  def test_dbfFirescarSeverity7(self):\n",
        "    '''Test DBF Firescar and Severity: AreaHighS'''    \n",
        "    rdf = dfd['AreaHighS'].compare(dfd['AreaHighS.1'])\n",
        "    self.assertEqual(rdf, self.emptyc, rdf.to_string())\n",
        "\n",
        "  def test_dbfFirescarSeverity8(self):\n",
        "    '''Test DBF Firescar and Severity: Control'''    \n",
        "    rdf = dfd['Control'].compare(dfd['Control.1'])\n",
        "    self.assertEqual(rdf, self.emptyc, rdf.to_string())\n",
        "\n",
        "  def test_dbfFirescarSeverity9(self):\n",
        "    '''Test DBF Firescar and Severity: AreaMedS'''    \n",
        "    rdf = dfd['AreaMedS'].compare(dfd['AreaMedS.1'])\n",
        "    self.assertEqual(rdf, self.emptyc, rdf.to_string())\n",
        "\n",
        "  def test_dbfFirescarSeverity10(self):\n",
        "    '''Test DBF Firescar and Severity: KEY'''    \n",
        "    rdf = dfd['KEY'].compare(dfd['KEY.1'])\n",
        "    self.assertEqual(rdf, self.emptyc, rdf.to_string())\n",
        "\n",
        "  def test_dbfMixed1(self):\n",
        "    '''Test DBF Firescar and Severity KEY FireId'''   \n",
        "    rdf = dfd['IdKey'].compare(dfd.index.to_series())\n",
        "    self.assertEqual(rdf, self.emptyc, rdf.to_string())\n",
        "\n",
        "\n"
      ]
    },
    {
      "cell_type": "markdown",
      "metadata": {
        "id": "cQvb1pri1Ir1"
      },
      "source": [
        "## Class Location Detailed Checks\n"
      ]
    },
    {
      "cell_type": "code",
      "execution_count": null,
      "metadata": {
        "id": "2OAi-ZCj1N7r"
      },
      "outputs": [],
      "source": [
        "class testLocationDetails(testDF):\n",
        "# dflocations=pd.merge(dfconafeval[[ 'Region', 'Cod_Region', 'Nombre inc', 'long', 'lat']], \n",
        "#dfd[['folderR_1', 'folderR_2', 'folderS_1', 'folderS_2', 'tif1Geo0', 'tif1Geo3', 'tif1Geo1', 'tif1Geo5', 'tif1X', 'tif1Y', 'Region', 'Region.1']],\n",
        "#on='fireId', suffixes=['_conaf', '_dbf'])\n",
        "\n",
        "  def test_region_master_conaf(self):\n",
        "    '''Test Region between CONAF and master are equal'''    \n",
        "    rdf = dfconafeval['Region'].compare(dfmeval['Region_CONAF'])        \n",
        "    self.assertEqual(rdf, self.emptyc, rdf.to_string())\n",
        "\n",
        "  def test_region_dbfs(self):\n",
        "    '''Test Region between CONAF and dbf are equal'''    \n",
        "    rdf = dflocations['Region_dbf'].compare(dflocations['Region.1'])\n",
        "    self.assertEqual(rdf, self.emptyc, rdf.to_string())\n",
        "\n",
        "  def test_region_master_dbf(self):\n",
        "    '''Test Region between CONAF and dbf are equal'''    \n",
        "    rdf = dflocations['Region_conaf'].compare(dflocations['Region_dbf'])\n",
        "    self.assertEqual(rdf, self.emptyc, rdf.to_string())\n",
        "\n",
        "  def test_region_dbf_folder1(self):\n",
        "    '''Test Region between master and folderRegion are equal'''    \n",
        "    rdf = dflocations['Region_conaf'].compare(dflocations['folderR_2'])        \n",
        "    self.assertEqual(rdf, self.emptyc, rdf.to_string())\n",
        "\n",
        "  def test_region_dbf_folder2(self):\n",
        "    '''Test Region between master and folderSeason are equal'''    \n",
        "    rdf = dflocations['Region_conaf'].compare(dflocations['folderS_2'])        \n",
        "    self.assertEqual(rdf, self.emptyc, rdf.to_string())\n",
        "\n",
        "  def test_region_folders(self):\n",
        "    '''Test Region between folderRegion and folderSeason are equal'''    \n",
        "    rdf = dflocations['folderR_2'].compare(dflocations['folderS_2'])        \n",
        "    self.assertEqual(rdf, self.emptyc, rdf.to_string())\n",
        "\n",
        "  def test_region_folders2(self):\n",
        "    '''Test Region between folderRegion and folderSeason are equal'''    \n",
        "    rdf = dflocations['folderR_1'].compare(dflocations['folderS_1'])\n",
        "    self.assertEqual(rdf, self.emptyc, rdf.to_string())\n",
        "\n",
        "  def test_region_folders3(self):\n",
        "    '''Test Region between folderSeason and fireRegion are equal'''    \n",
        "    rdf = dflocations['folderS_1'].compare(dflocations['fireRegion'])        \n",
        "    self.assertEqual(rdf, self.emptyc, rdf.to_string())\n",
        "\n",
        "  def test_lat_master_conaf(self):\n",
        "    '''Test Lat between CONAF and master are equal'''    \n",
        "    rdf = dfconafeval['lat'].compare(dfmeval['lat'])        \n",
        "    self.assertEqual(rdf, self.emptyc, rdf.to_string())\n",
        "\n",
        "  def test_lon_master_conaf(self):\n",
        "    '''Test Lon between CONAF and master are equal'''    \n",
        "    rdf = dfconafeval['long'].compare(dfmeval['long'])        \n",
        "    self.assertEqual(rdf, self.emptyc, rdf.to_string())\n",
        "\n",
        "  def test_tif_location1(self):\n",
        "    '''Test Firescar location in Satellite image LATITUDE (Geo3) Y  top''' \n",
        "    rdf = dfd.loc[(dfd['tif1Geo3'] > dfd['tif4Geo3'])]\n",
        "    self.assertEqual(rdf, self.emptydfd, rdf.to_string())\n",
        "\n",
        "  def test_tif_location2(self):\n",
        "    '''Test Firescar location in Satellite image LATITUDE (Geo3) Y bottom''' \n",
        "    rdf = dfd.loc[(dfd['tif1Geo3']+dfd['tif1Geo5']*dfd['tif1Y'] < dfd['tif4Geo3']+dfd['tif4Geo5']*dfd['tif4Y'])]\n",
        "    self.assertEqual(rdf, self.emptydfd, rdf.to_string())\n",
        "\n",
        "  def test_tif_location3(self):\n",
        "    '''Test Firescar location in Satellite image LONGITUDE (Geo3) X left''' \n",
        "    rdf = dfd.loc[(dfd['tif1Geo0'] < dfd['tif4Geo0'])]\n",
        "    self.assertEqual(rdf, self.emptydfd, rdf.to_string())\n",
        "\n",
        "  def test_tif_location4(self):\n",
        "    '''Test Firescar location in Satellite image LONGITUDE (Geo3) X right''' \n",
        "    rdf = dfd.loc[(dfd['tif1Geo0']+dfd['tif1Geo1']*dfd['tif1X'] > dfd['tif4Geo0']+dfd['tif4Geo1']*dfd['tif4X'])]\n",
        "    self.assertEqual(rdf, self.emptydfd, rdf.to_string())\n",
        "\n",
        "  def test_tif_conaf1(self):\n",
        "    '''Test Satellite image and CONAF LATITUDE top'''\n",
        "    rdf = dfd.loc[(dfconafeval['lat'] > dfd['tif4Geo3'])]\n",
        "    self.assertEqual(rdf, self.emptydfd, rdf.to_string())\n",
        "\n",
        "  def test_tif_conaf2(self):\n",
        "    '''Test Satellite image and CONAF LATITUDE bottom'''\n",
        "    rdf = dfd.loc[(dfconafeval['lat'] < dfd['tif4Geo3']+dfd['tif4Geo5']*dfd['tif4Y'])]\n",
        "    self.assertEqual(rdf, self.emptydfd, rdf.to_string())\n",
        "\n",
        "  def test_tif_conaf3(self):\n",
        "    '''Test Satellite image and CONAF LONGITUDE left'''\n",
        "    rdf = dfd.loc[(dfconafeval['long'] < dfd['tif4Geo0'])]\n",
        "    self.assertEqual(rdf, self.emptydfd, rdf.to_string())\n",
        "\n",
        "  def test_tif_conaf4(self):\n",
        "    '''Test Satellite image and CONAF LONGITUDE right'''\n",
        "    rdf = dfd.loc[(dfconafeval['long'] > dfd['tif4Geo0']+dfd['tif4Geo1']*dfd['tif4X'])]\n",
        "    self.assertEqual(rdf, self.emptydfd, rdf.to_string())\n",
        "\n",
        "\n",
        "  def test_tif_conaf1B(self):\n",
        "    '''Test Firescar image and CONAF LATITUDE top'''\n",
        "    rdf = dfd.loc[(dfconafeval['lat'] > dfd['tif1Geo3'])]\n",
        "    self.assertEqual(rdf, self.emptydfd, rdf.to_string())\n",
        "\n",
        "  def test_tif_conaf2B(self):\n",
        "    '''Test Firescar image and CONAF LATITUDE bottom'''\n",
        "    rdf = dfd.loc[(dfconafeval['lat'] < dfd['tif1Geo3']+dfd['tif1Geo5']*dfd['tif1Y'])]\n",
        "    self.assertEqual(rdf, self.emptydfd, rdf.to_string())\n",
        "\n",
        "  def test_tif_conaf3B(self):\n",
        "    '''Test Firescar image and CONAF LONGITUDE left'''\n",
        "    rdf = dfd.loc[(dfconafeval['long'] < dfd['tif1Geo0'])]\n",
        "    self.assertEqual(rdf, self.emptydfd, rdf.to_string())\n",
        "\n",
        "  def test_tif_conaf4B(self):\n",
        "    '''Test Firescar image and CONAF LONGITUDE right'''\n",
        "    rdf = dfd.loc[(dfconafeval['long'] > dfd['tif1Geo0']+dfd['tif1Geo1']*dfd['tif1X'])]\n",
        "    self.assertEqual(rdf, self.emptydfd, rdf.to_string())\n",
        "\n",
        "\n",
        "\n",
        "\n",
        "  def region_season_folder(self):\n",
        "    '''Test REGION ID is equal for region folder and season folder Ex Fire_CL-AR_Araucania and FireScar_CL-AR_Araucania_1998 / CL-AR == CL-AR'''\n",
        "    rdf = dfd['folderR_1'].compare(dfd['folderS_1']) \n",
        "    self.assertEqual(rdf, self.emptyc, rdf.to_string())\n",
        "\n",
        "  def region_season_name(self):\n",
        "    '''Test REGION NAME is equal for region folder and season folder Ex Fire_CL-AR_Araucania and FireScar_CL-AR_Araucania_1998 /Araucania == Araucania'''\n",
        "    rdf = dfd['folderR_2'].compare(dfd['folderS_2']) \n",
        "    self.assertEqual(rdf, self.emptyc, rdf.to_string())\n",
        "\n",
        "  def region_fire_region(self):\n",
        "    '''Test REGION NAME IS DIFFERENT for region folder and fire filename region Ex Fire_CL-AR_Araucania and FireScar_CL-AR_ID151372_u390_20101211. / CL-AR == CL-AR'''\n",
        "    rdf = dffires['folderR_2'].compare(dffires['fireRegion']) \n",
        "    self.assertEqual(rdf, self.emptyc, rdf.to_string())\n",
        "\n"
      ]
    },
    {
      "cell_type": "code",
      "execution_count": null,
      "metadata": {
        "id": "ltHNKdfvCLx-"
      },
      "outputs": [],
      "source": [
        "# Assert folderSeason year == get_season from filename date \n",
        "\n",
        "# WHEN CHECKING DATE!!\n",
        "# filename FireScar_CL-BI_ID151372_u390_20101211.\n",
        "# Ex FireScar_CL-AR_Araucania_1998 and 19981205 / 1998 == get_season(19981205)\n",
        "\n",
        "#df['Diff'] = np.where( df['folderS_3'] == df['fireDate'].apply(get_season) , '1', '0')\n",
        "#df2=df.loc[df['Diff'] == '0']\n",
        "#df3=df2.groupby(['folderRegion', 'folderSeason', 'fireDate', 'fireId'], group_keys=False, as_index=False).agg(['count']).reset_index()\n",
        "#with pd.ExcelWriter(output_path+'output_check_season.xlsx') as writer:  \n",
        "#  df3.to_excel(writer, sheet_name='CheckSeason')\n",
        "\n",
        "#if not df['folderS_3'].equals(df['fireDate'].apply(get_season)):\n",
        "#  raise Exception(\"SEASON AND DATE IS DIFFERENT\")"
      ]
    },
    {
      "cell_type": "markdown",
      "metadata": {
        "id": "e_1330A6zEGt"
      },
      "source": [
        "## Class Dates Season Detailed Checks"
      ]
    },
    {
      "cell_type": "code",
      "execution_count": null,
      "metadata": {
        "id": "V5G_KZcZl7Xi"
      },
      "outputs": [],
      "source": [
        "class testDatesDetails(testDF):\n",
        "\n",
        "  def test_date_master_conaf1(self):\n",
        "    '''Test valid_start_date between CONAF and maestro are equal'''    \n",
        "    rdf = dfconafeval['valid_start_date'].compare(dfmeval['valid_start_date'])\n",
        "    self.assertEqual(rdf, self.emptyc, rdf.to_string())\n",
        "\n",
        "  def test_date_master_conaf2(self):\n",
        "    '''Test valid_control_date between CONAF and maestro are equal'''    \n",
        "    rdf = dfconafeval['valid_control_date'].compare(dfmeval['valid_control_date'])\n",
        "    self.assertEqual(rdf, self.emptyc, rdf.to_string())\n",
        "\n",
        "  def test_date_master_fileDate(self):\n",
        "    '''Test start date between maestro and filename are equal'''\n",
        "    rdf = dffires['fireDate'].compare(dfmeval['stripped_start_date'])\n",
        "    self.assertEqual(rdf, self.emptyc, rdf.to_string()) \n",
        "\n",
        "  def test_season_folderSeason2(self):\n",
        "    '''Test season between folderSeason and get_season(fireDate) are equal'''\n",
        "    rdf = dffires['folderS_3'].compare(dflocations['season_from_date'])\n",
        "    self.assertEqual(rdf, self.emptyc, str(len(rdf))) \n",
        "\n",
        "  def test_dbfFirescarSeverity2(self):\n",
        "    '''Test Season between DBF and folderSeason Temporada'''    \n",
        "    rdf = dfd['Temporada'].compare(dflocations['folderS_3'])\n",
        "    self.assertEqual(rdf, self.emptyc, rdf.to_string())\n",
        "\n"
      ]
    },
    {
      "cell_type": "code",
      "execution_count": null,
      "metadata": {
        "id": "m9CQQzinlpkY"
      },
      "outputs": [],
      "source": [
        "class testOverlapDetails(testDF):\n",
        "  # REF dfi.rename(columns={'KEYID':'fireId'}, inplace=True)\n",
        "  #dfi.set_index('fireId', inplace=True)\n",
        "  # print('len dfi', len(dfi))\n",
        "  # interaccion\n",
        "  def test_overlaps_exist(self):\n",
        "    '''Test all values in OverlapIDs are valid fireIDs'''    \n",
        "    rdf = dfconafeval['valid_start_date'].compare(dfmeval['valid_start_date'])\n",
        "    self.assertEqual(rdf, self.emptyc, rdf.to_string())"
      ]
    },
    {
      "cell_type": "markdown",
      "metadata": {
        "id": "9nLIXLV9fJy-"
      },
      "source": [
        "## Calls unit tests\n"
      ]
    },
    {
      "cell_type": "markdown",
      "metadata": {
        "id": "EOQxsK6wRyOK"
      },
      "source": [
        "### Tests testFileAmounts"
      ]
    },
    {
      "cell_type": "code",
      "execution_count": null,
      "metadata": {
        "colab": {
          "base_uri": "https://localhost:8080/"
        },
        "id": "0bgZYCdkfPdF",
        "outputId": "b727889c-d2c7-41d0-f09a-7d2020be6683"
      },
      "outputs": [
        {
          "output_type": "stream",
          "name": "stderr",
          "text": [
            "test_details_vs_files (__main__.testFileAmounts)\n",
            "Test Files in Details Obtained and NOT Filesystem ... ok\n",
            "test_details_vs_files2 (__main__.testFileAmounts)\n",
            "Test Files in Details Obtained and NOT Master ... ok\n",
            "test_file_ext1 (__main__.testFileAmounts)\n",
            "Test Fires with wrong amount of tif  (!= 5) ... ok\n",
            "test_file_ext2 (__main__.testFileAmounts)\n",
            "Test Fires with wrong amount of shape related files  (!= 2) ... ok\n",
            "test_file_types1 (__main__.testFileAmounts)\n",
            "Test Fires with wrong amount of FireScar files (!= 7) ... ok\n",
            "test_file_types2 (__main__.testFileAmounts)\n",
            "Test Fires with wrong amount of Severity files (!= 7) ... ok\n",
            "test_file_types3 (__main__.testFileAmounts)\n",
            "Test Fires with wrong amount of ImgPosF files (!= 1) ... ok\n",
            "test_file_types4 (__main__.testFileAmounts)\n",
            "Test Fires with wrong amount of ImgPreF (!= 1) ... ok\n",
            "test_file_types5 (__main__.testFileAmounts)\n",
            "Test Fires with wrong amount of RdNBR (!= 1) ... ok\n",
            "test_fire_files_amount (__main__.testFileAmounts)\n",
            "Test Number of Correct Files per Fire ... ok\n",
            "test_internal_fire_amount (__main__.testFileAmounts)\n",
            "Test case amount of fires considered, Detailed obtained Files vs Master obtained Fires ... ok\n",
            "test_master_vs_details (__main__.testFileAmounts)\n",
            "Test Files in Filesystem and NOT in Details ... ok\n",
            "test_master_vs_details2 (__main__.testFileAmounts)\n",
            "Test Files in MASTER and NOT in Details ... ok\n",
            "test_master_vs_files (__main__.testFileAmounts)\n",
            "Test Files in Masterlist Obtained and NOT Filesystem ... ok\n",
            "test_master_vs_files2 (__main__.testFileAmounts)\n",
            "Test Files in Filesystem and NOT in Masterlist Obtained ... ok\n",
            "test_master_vs_files3 (__main__.testFileAmounts)\n",
            "Test Files in Filesystem and NOT in Masterlist ... ok\n",
            "test_region_amounts (__main__.testFileAmounts)\n",
            "Test case amount of regions considered ... ok\n",
            "test_region_season_amount (__main__.testFileAmounts)\n",
            "Test case amount of regions-seasons considered ... ok\n",
            "test_total_fire_amount (__main__.testFileAmounts)\n",
            "Test case amount of fires considered, Summary obtained Files vs Master obtained Fires ... ok\n",
            "test_total_size (__main__.testFileAmounts)\n",
            "Test case total size ... "
          ]
        },
        {
          "output_type": "stream",
          "name": "stdout",
          "text": [
            "124854876030\n"
          ]
        },
        {
          "output_type": "stream",
          "name": "stderr",
          "text": [
            "ok\n",
            "\n",
            "----------------------------------------------------------------------\n",
            "Ran 20 tests in 3.693s\n",
            "\n",
            "OK\n"
          ]
        },
        {
          "output_type": "execute_result",
          "data": {
            "text/plain": [
              "<unittest.main.TestProgram at 0x7fea20088b50>"
            ]
          },
          "metadata": {},
          "execution_count": 44
        }
      ],
      "source": [
        "unittest.main(argv=[''], defaultTest='testFileAmounts', verbosity=3, exit=False)\n"
      ]
    },
    {
      "cell_type": "markdown",
      "metadata": {
        "id": "XOqiRtswoe8m"
      },
      "source": [
        "### Test testTifDetails"
      ]
    },
    {
      "cell_type": "code",
      "execution_count": null,
      "metadata": {
        "colab": {
          "base_uri": "https://localhost:8080/"
        },
        "id": "s8tK89LxmToD",
        "outputId": "1bed8628-3aa9-4496-de66-cd2cb80f9b79"
      },
      "outputs": [
        {
          "output_type": "stream",
          "name": "stderr",
          "text": [
            "test_area (__main__.testTifDetails)\n",
            "Test area text ... ok\n",
            "test_firescar_severity_nonzeros (__main__.testTifDetails)\n",
            "Test Firescar NonZeros == Severity NonZeros ... ok\n",
            "test_firescar_severity_zeros (__main__.testTifDetails)\n",
            "Test Firescar Zeros == Severity Zeros ... ok\n",
            "test_firescar_xy_content (__main__.testTifDetails)\n",
            "Test Firescar tiff x * y = zeros + ones ... ok\n",
            "test_firescarmax (__main__.testTifDetails)\n",
            "Test Firescar tiff all max equals 1 ... ok\n",
            "test_firescarmin (__main__.testTifDetails)\n",
            "Test Firescar tiff all min equals 0 ... ok\n",
            "test_projection (__main__.testTifDetails)\n",
            "Test projection text ... ok\n",
            "test_rastercount (__main__.testTifDetails)\n",
            "Test Correct amount of rasters per tif ... ok\n",
            "test_severity_xy_content (__main__.testTifDetails)\n",
            "Test Severity tiff x * y = zeros + ones + twos + threes ... ok\n",
            "test_severitymax (__main__.testTifDetails)\n",
            "Test Severity tiff all max between 1 and 3 ... ok\n",
            "test_severitymin (__main__.testTifDetails)\n",
            "Test Severity tiff all min equals 0 ... ok\n",
            "test_tif14X (__main__.testTifDetails)\n",
            "Test if Firescar X dimensions equals Satellite image ... ok\n",
            "test_tif14Y (__main__.testTifDetails)\n",
            "Test if Firescar Y dimensions equals Satellite image ... ok\n",
            "test_tiflocation12Geo0 (__main__.testTifDetails)\n",
            "Test Location between tif1 and tif2 Geo0 ... ok\n",
            "test_tiflocation12Geo3 (__main__.testTifDetails)\n",
            "Test Location between tif1 and tif2 Geo3 ... ok\n",
            "test_tiflocation12X (__main__.testTifDetails)\n",
            "Test Location between tif1 and tif2 X ... ok\n",
            "test_tiflocation12Y (__main__.testTifDetails)\n",
            "Test Location between tif1 and tif2 Y ... ok\n",
            "test_tiflocation13Geo0 (__main__.testTifDetails)\n",
            "Test Location between tif1 and tif3 Geo0 ... ok\n",
            "test_tiflocation13Geo3 (__main__.testTifDetails)\n",
            "Test Location between tif1 and tif3 Geo3 ... ok\n",
            "test_tiflocation13X (__main__.testTifDetails)\n",
            "Test Location between tif1 and tif3 X ... ok\n",
            "test_tiflocation13Y (__main__.testTifDetails)\n",
            "Test Location between tif1 and tif3 Y ... ok\n",
            "test_tiflocation45Geo0 (__main__.testTifDetails)\n",
            "Test Location between tif4 and tif5 Geo0 ... ok\n",
            "test_tiflocation45Geo3 (__main__.testTifDetails)\n",
            "Test Location between tif4 and tif5 Geo3 ... ok\n",
            "test_tiflocation45X (__main__.testTifDetails)\n",
            "Test Location between tif4 and tif5 X ... ok\n",
            "test_tiflocation45Y (__main__.testTifDetails)\n",
            "Test Location between tif4 and tif5 Y ... ok\n",
            "\n",
            "----------------------------------------------------------------------\n",
            "Ran 25 tests in 1.022s\n",
            "\n",
            "OK\n"
          ]
        },
        {
          "output_type": "execute_result",
          "data": {
            "text/plain": [
              "<unittest.main.TestProgram at 0x7fea1cda0650>"
            ]
          },
          "metadata": {},
          "execution_count": 52
        }
      ],
      "source": [
        "unittest.main(argv=[''], defaultTest='testTifDetails', verbosity=2, exit=False)\n",
        "\n"
      ]
    },
    {
      "cell_type": "markdown",
      "metadata": {
        "id": "qMRvkio-5-_z"
      },
      "source": [
        "### Test testDbfDetails"
      ]
    },
    {
      "cell_type": "code",
      "execution_count": null,
      "metadata": {
        "colab": {
          "base_uri": "https://localhost:8080/"
        },
        "id": "Ltckdoya6EH_",
        "outputId": "d6b7a013-5968-46d6-9204-97dd4bbee9cb"
      },
      "outputs": [
        {
          "output_type": "stream",
          "name": "stderr",
          "text": [
            "test_dbfFirescarSeverity1 (__main__.testDbfDetails)\n",
            "Test DBF Firescar and Severity: Area Total ... ok\n",
            "test_dbfFirescarSeverity10 (__main__.testDbfDetails)\n",
            "Test DBF Firescar and Severity: KEY ... ok\n",
            "test_dbfFirescarSeverity2 (__main__.testDbfDetails)\n",
            "Test DBF Firescar and Severity: Temporada ... ok\n",
            "test_dbfFirescarSeverity3 (__main__.testDbfDetails)\n",
            "Test DBF Firescar and Severity: AreaINC_ha ... ok\n",
            "test_dbfFirescarSeverity4 (__main__.testDbfDetails)\n",
            "Test DBF Firescar and Severity: AreaUnchS ... ok\n",
            "test_dbfFirescarSeverity5 (__main__.testDbfDetails)\n",
            "Test DBF Firescar and Severity: AreaUnchS ... ok\n",
            "test_dbfFirescarSeverity6 (__main__.testDbfDetails)\n",
            "Test DBF Firescar and Severity: AreaLowS ... ok\n",
            "test_dbfFirescarSeverity7 (__main__.testDbfDetails)\n",
            "Test DBF Firescar and Severity: AreaHighS ... ok\n",
            "test_dbfFirescarSeverity8 (__main__.testDbfDetails)\n",
            "Test DBF Firescar and Severity: Control ... ok\n",
            "test_dbfFirescarSeverity9 (__main__.testDbfDetails)\n",
            "Test DBF Firescar and Severity: AreaMedS ... ok\n",
            "test_dbfFirescarSeverityPol (__main__.testDbfDetails)\n",
            "Test DBF Firescar and Severity: Polygon amount ... ok\n",
            "test_dbfFirescarSeverityRegion (__main__.testDbfDetails)\n",
            "Test DBF Firescar and Severity: Area Total ... ok\n",
            "test_dbfMixed1 (__main__.testDbfDetails)\n",
            "Test DBF Firescar and Severity KEY FireId ... ok\n",
            "\n",
            "----------------------------------------------------------------------\n",
            "Ran 13 tests in 0.480s\n",
            "\n",
            "OK\n"
          ]
        },
        {
          "output_type": "execute_result",
          "data": {
            "text/plain": [
              "<unittest.main.TestProgram at 0x7fea1f813110>"
            ]
          },
          "metadata": {},
          "execution_count": 46
        }
      ],
      "source": [
        "unittest.main(argv=[''], defaultTest='testDbfDetails', verbosity=2, exit=False)\n"
      ]
    },
    {
      "cell_type": "markdown",
      "metadata": {
        "id": "l1o5jmU_1xYj"
      },
      "source": [
        "### Test testLocationDetails"
      ]
    },
    {
      "cell_type": "code",
      "execution_count": null,
      "metadata": {
        "colab": {
          "base_uri": "https://localhost:8080/"
        },
        "id": "IsF2fH3211Bv",
        "outputId": "6acc564f-ef80-4ab2-c70d-50acb9dd07f9"
      },
      "outputs": [
        {
          "output_type": "stream",
          "name": "stderr",
          "text": [
            "test_lat_master_conaf (__main__.testLocationDetails)\n",
            "Test Lat between CONAF and master are equal ... ok\n",
            "test_lon_master_conaf (__main__.testLocationDetails)\n",
            "Test Lon between CONAF and master are equal ... ok\n",
            "test_region_dbf_folder1 (__main__.testLocationDetails)\n",
            "Test Region between master and folderRegion are equal ... ok\n",
            "test_region_dbf_folder2 (__main__.testLocationDetails)\n",
            "Test Region between master and folderSeason are equal ... ok\n",
            "test_region_dbfs (__main__.testLocationDetails)\n",
            "Test Region between CONAF and dbf are equal ... ok\n",
            "test_region_folders (__main__.testLocationDetails)\n",
            "Test Region between folderRegion and folderSeason are equal ... ok\n",
            "test_region_folders2 (__main__.testLocationDetails)\n",
            "Test Region between folderRegion and folderSeason are equal ... ok\n",
            "test_region_folders3 (__main__.testLocationDetails)\n",
            "Test Region between folderSeason and fireRegion are equal ... ok\n",
            "test_region_master_conaf (__main__.testLocationDetails)\n",
            "Test Region between CONAF and master are equal ... ok\n",
            "test_region_master_dbf (__main__.testLocationDetails)\n",
            "Test Region between CONAF and dbf are equal ... ok\n",
            "test_tif_conaf1 (__main__.testLocationDetails)\n",
            "Test Satellite image and CONAF LATITUDE top ... ok\n",
            "test_tif_conaf1B (__main__.testLocationDetails)\n",
            "Test Firescar image and CONAF LATITUDE top ... FAIL\n",
            "test_tif_conaf2 (__main__.testLocationDetails)\n",
            "Test Satellite image and CONAF LATITUDE bottom ... ok\n",
            "test_tif_conaf2B (__main__.testLocationDetails)\n",
            "Test Firescar image and CONAF LATITUDE bottom ... FAIL\n",
            "test_tif_conaf3 (__main__.testLocationDetails)\n",
            "Test Satellite image and CONAF LONGITUDE left ... ok\n",
            "test_tif_conaf3B (__main__.testLocationDetails)\n",
            "Test Firescar image and CONAF LONGITUDE left ... FAIL\n",
            "test_tif_conaf4 (__main__.testLocationDetails)\n",
            "Test Satellite image and CONAF LONGITUDE right ... ok\n",
            "test_tif_conaf4B (__main__.testLocationDetails)\n",
            "Test Firescar image and CONAF LONGITUDE right ... FAIL\n",
            "test_tif_location1 (__main__.testLocationDetails)\n",
            "Test Firescar location in Satellite image LATITUDE (Geo3) Y  top ... ok\n",
            "test_tif_location2 (__main__.testLocationDetails)\n",
            "Test Firescar location in Satellite image LATITUDE (Geo3) Y bottom ... ok\n",
            "test_tif_location3 (__main__.testLocationDetails)\n",
            "Test Firescar location in Satellite image LONGITUDE (Geo3) X left ... ok\n",
            "test_tif_location4 (__main__.testLocationDetails)\n",
            "Test Firescar location in Satellite image LONGITUDE (Geo3) X right ... IOPub data rate exceeded.\n",
            "The notebook server will temporarily stop sending output\n",
            "to the client in order to avoid crashing it.\n",
            "To change this limit, set the config variable\n",
            "`--NotebookApp.iopub_data_rate_limit`.\n",
            "\n",
            "Current values:\n",
            "NotebookApp.iopub_data_rate_limit=1000000.0 (bytes/sec)\n",
            "NotebookApp.rate_limit_window=3.0 (secs)\n",
            "\n"
          ]
        },
        {
          "output_type": "execute_result",
          "data": {
            "text/plain": [
              "<unittest.main.TestProgram at 0x7fea1f979990>"
            ]
          },
          "metadata": {},
          "execution_count": 56
        }
      ],
      "source": [
        "unittest.main(argv=[''], defaultTest='testLocationDetails', verbosity=3, exit=False)\n"
      ]
    },
    {
      "cell_type": "markdown",
      "metadata": {
        "id": "a01We5eIsHhF"
      },
      "source": [
        "### Test testDatesDetails"
      ]
    },
    {
      "cell_type": "code",
      "execution_count": null,
      "metadata": {
        "colab": {
          "base_uri": "https://localhost:8080/"
        },
        "id": "8WOd0oBOsarc",
        "outputId": "c78e0500-baae-4ebb-93ec-b8bc7b75aefc"
      },
      "outputs": [
        {
          "output_type": "stream",
          "name": "stderr",
          "text": [
            "test_date_master_conaf1 (__main__.testDatesDetails)\n",
            "Test valid_start_date between CONAF and maestro are equal ... ok\n",
            "test_date_master_conaf2 (__main__.testDatesDetails)\n",
            "Test valid_control_date between CONAF and maestro are equal ... ok\n",
            "test_date_master_fileDate (__main__.testDatesDetails)\n",
            "Test start date between maestro and filename are equal ... ok\n",
            "test_dbfFirescarSeverity2 (__main__.testDatesDetails)\n",
            "Test Season between DBF and folderSeason Temporada ... ok\n",
            "test_season_folderSeason2 (__main__.testDatesDetails)\n",
            "Test season between folderSeason and get_season(fireDate) are equal ... ok\n",
            "\n",
            "----------------------------------------------------------------------\n",
            "Ran 5 tests in 0.215s\n",
            "\n",
            "OK\n"
          ]
        },
        {
          "output_type": "execute_result",
          "data": {
            "text/plain": [
              "<unittest.main.TestProgram at 0x7fea200cab50>"
            ]
          },
          "metadata": {},
          "execution_count": 48
        }
      ],
      "source": [
        "unittest.main(argv=[''], defaultTest='testDatesDetails', verbosity=3, exit=False)\n"
      ]
    },
    {
      "cell_type": "markdown",
      "metadata": {
        "id": "bbovS4ph6skF"
      },
      "source": [
        "# Generate Master"
      ]
    },
    {
      "cell_type": "code",
      "execution_count": null,
      "metadata": {
        "colab": {
          "base_uri": "https://localhost:8080/",
          "height": 35
        },
        "id": "WJ8VJoyS8ZJu",
        "outputId": "c179ee21-7340-430a-ec1a-4c0aad73accd"
      },
      "outputs": [
        {
          "output_type": "execute_result",
          "data": {
            "application/vnd.google.colaboratory.intrinsic+json": {
              "type": "string"
            },
            "text/plain": [
              "'Nuble'"
            ]
          },
          "metadata": {},
          "execution_count": 49
        }
      ],
      "source": [
        "  def test_print_Master(self):\n",
        "    '''Printing Sizes report if needed'''\n",
        "    if flag_print_reports:\n",
        "      full_path=output_path+'output_statistics_size2021116_EXTRA.xlsx'\n",
        "      with pd.ExcelWriter(full_path) as writer:  \n",
        "        dfregions.to_excel(writer, sheet_name='SizePerRegion')\n",
        "        dfseasons.to_excel(writer, sheet_name='SizePerSeason')\n",
        "        dffires.to_excel(writer, sheet_name='SizePerFire')\n",
        "      self.assertTrue(os.path.exists(full_path))\n",
        "    else:\n",
        "      pass\n",
        "\n",
        "\n",
        "    # Check AREA from CONAF, maestro, tif, shape: area, zeros, ones, filesize\n",
        "    # OK Check location from CONAF, maestro, tif -> get Region (&comuna?)\n",
        "    # OK Check DATE from CONAF, maestro, shape\n",
        "    \n",
        "    # For each Fire: Get tif details, get shapefile details, compare with master and conaf in a huge excel by:\n",
        "    # AREA,     LOCATION,      DATE \n",
        "    # AREA FROM FIRESCAR TIF (0 and 1)\n",
        "    # OK\n",
        "\n",
        "    # ARMAR MAESTRO CON MERGE, imprimir\n",
        "\n",
        "\n",
        "\n",
        "#Take command-line input and do all this\n",
        "getLocation(rlayer, -71.7793437883999,-36.2672338081154)\n",
        "getLocation(rlayer, -71.79375,-36.28001)"
      ]
    }
  ],
  "metadata": {
    "colab": {
      "collapsed_sections": [],
      "name": "2_generate_csv_analysis.ipynb",
      "provenance": [],
      "toc_visible": true,
      "authorship_tag": "ABX9TyP9UiY608f8NX5B6CKW+Zrq",
      "include_colab_link": true
    },
    "kernelspec": {
      "display_name": "Python 3",
      "name": "python3"
    },
    "language_info": {
      "name": "python"
    }
  },
  "nbformat": 4,
  "nbformat_minor": 0
}